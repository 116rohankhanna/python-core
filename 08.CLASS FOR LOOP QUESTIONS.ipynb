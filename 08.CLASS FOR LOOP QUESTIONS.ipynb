{
 "cells": [
  {
   "cell_type": "code",
   "execution_count": 11,
   "metadata": {},
   "outputs": [
    {
     "name": "stdout",
     "output_type": "stream",
     "text": [
      "enter the no = 81\n",
      "1\n",
      "3\n",
      "9\n",
      "27\n",
      "81\n",
      "the no is  5\n",
      "the no is composite\n"
     ]
    }
   ],
   "source": [
    "a=int(input(\"enter the no = \"))\n",
    "c=0\n",
    "for i in range (1,a+1):\n",
    "    if a%i==0:\n",
    "        print(i)\n",
    "        c=c+1\n",
    "print(\"the factor of the no is =  \",c)\n",
    "if c>2:\n",
    "    print(\"the no is composite\")\n",
    "else:\n",
    "    print(\"the no is prime \")"
   ]
  },
  {
   "cell_type": "markdown",
   "metadata": {},
   "source": [
    "we have to find the factorial of a no remember the factorial of 0 is 1 and fact of 1 is also 1 and fact of negative no is not possible\n",
    "factorial is basically : 5*4*3*2*1"
   ]
  },
  {
   "cell_type": "code",
   "execution_count": 37,
   "metadata": {},
   "outputs": [
    {
     "name": "stdout",
     "output_type": "stream",
     "text": [
      "enter the no = 6\n",
      "the factorial of  6 ! is = 720\n"
     ]
    }
   ],
   "source": [
    "a=int(input(\"enter the no = \"))\n",
    "if a==1 or a==0:\n",
    "    print(\"fact is 1\")\n",
    "elif a>0:\n",
    "    f=1\n",
    "    for i in range (a,0,-1):\n",
    "        f=f*i\n",
    "    print(\"the factorial of \",a,\"! is =\",f)\n",
    "else:\n",
    "    print(\"not possible\")\n",
    " \n"
   ]
  },
  {
   "cell_type": "markdown",
   "metadata": {},
   "source": [
    "wap to print fizz of all the number which is div by 3 print buzz for all the no which are div by 5 and print fizzbuzz all the number div by both 3and 5 i the range of 1 to 50 "
   ]
  },
  {
   "cell_type": "code",
   "execution_count": 1,
   "metadata": {},
   "outputs": [
    {
     "name": "stdout",
     "output_type": "stream",
     "text": [
      "fizz 3\n",
      "buzz 5\n",
      "fizz 6\n",
      "fizz 9\n",
      "buzz 10\n",
      "fizz 12\n",
      "fizzbuzz 15\n",
      "fizz 18\n",
      "buzz 20\n",
      "fizz 21\n",
      "fizz 24\n",
      "buzz 25\n",
      "fizz 27\n",
      "fizzbuzz 30\n",
      "fizz 33\n",
      "buzz 35\n",
      "fizz 36\n",
      "fizz 39\n",
      "buzz 40\n",
      "fizz 42\n",
      "fizzbuzz 45\n",
      "fizz 48\n",
      "buzz 50\n"
     ]
    }
   ],
   "source": [
    "for i in range (1,51):\n",
    "    if i%3==0 and i%5==0:\n",
    "        print(\"fizzbuzz\",i)\n",
    "    elif i%3==0:\n",
    "        print(\"fizz\",i)\n",
    "    elif i%5==0:\n",
    "        print(\"buzz\",i)"
   ]
  },
  {
   "cell_type": "code",
   "execution_count": 52,
   "metadata": {},
   "outputs": [],
   "source": [
    "l=[1,2,3,4,5,6]\n"
   ]
  },
  {
   "cell_type": "code",
   "execution_count": 53,
   "metadata": {},
   "outputs": [
    {
     "data": {
      "text/plain": [
       "list"
      ]
     },
     "execution_count": 53,
     "metadata": {},
     "output_type": "execute_result"
    }
   ],
   "source": [
    "type(l)"
   ]
  },
  {
   "cell_type": "code",
   "execution_count": 55,
   "metadata": {},
   "outputs": [
    {
     "name": "stdout",
     "output_type": "stream",
     "text": [
      "1\n",
      "2\n",
      "3\n",
      "4\n",
      "5\n",
      "6\n"
     ]
    }
   ],
   "source": [
    "l= [1,2,3,4,5,6]\n",
    "for i in l:\n",
    "    print(i)"
   ]
  },
  {
   "cell_type": "code",
   "execution_count": 57,
   "metadata": {},
   "outputs": [
    {
     "name": "stdout",
     "output_type": "stream",
     "text": [
      "a\n",
      "m\n",
      "a\n",
      "n\n"
     ]
    }
   ],
   "source": [
    "s=\"aman\"\n",
    "for i in s:\n",
    "    print(i)"
   ]
  },
  {
   "cell_type": "code",
   "execution_count": 58,
   "metadata": {},
   "outputs": [
    {
     "name": "stdout",
     "output_type": "stream",
     "text": [
      "a m a n "
     ]
    }
   ],
   "source": [
    "s=\"aman\"\n",
    "for i in s:\n",
    "    print(i,end =\" \") #end use for this purpose"
   ]
  },
  {
   "cell_type": "markdown",
   "metadata": {},
   "source": [
    "wap to find the no of elements in a list"
   ]
  },
  {
   "cell_type": "code",
   "execution_count": 2,
   "metadata": {},
   "outputs": [
    {
     "name": "stdout",
     "output_type": "stream",
     "text": [
      "9\n"
     ]
    },
    {
     "data": {
      "text/plain": [
       "list"
      ]
     },
     "execution_count": 2,
     "metadata": {},
     "output_type": "execute_result"
    }
   ],
   "source": [
    "l=[12,13,1,2,3,4,5,6,45]\n",
    "c=0\n",
    "for i in l:\n",
    "    c=c+1\n",
    "print(c)\n",
    "type(l)"
   ]
  },
  {
   "cell_type": "code",
   "execution_count": 65,
   "metadata": {},
   "outputs": [
    {
     "name": "stdout",
     "output_type": "stream",
     "text": [
      "91\n"
     ]
    }
   ],
   "source": [
    "#sum \n",
    "l=[12,13,1,2,3,4,5,6,45]\n",
    "c=0\n",
    "for i in l:\n",
    "    c=c+i\n",
    "print(c)"
   ]
  },
  {
   "cell_type": "code",
   "execution_count": 17,
   "metadata": {},
   "outputs": [
    {
     "name": "stdout",
     "output_type": "stream",
     "text": [
      "3\n"
     ]
    }
   ],
   "source": [
    "s=\"helloworld\"\n",
    "v=0\n",
    "for i in s :\n",
    "    if i==\"a\" or i==\"e\" or i==\"i\"or i==\"o\"or i==\"u\":\n",
    "        v=v+1\n",
    "print(v)\n",
    "    "
   ]
  },
  {
   "cell_type": "code",
   "execution_count": 4,
   "metadata": {},
   "outputs": [],
   "source": [
    "l=[12,13,1,2,3,4,5,6,45]\n",
    "l.sort()"
   ]
  },
  {
   "cell_type": "code",
   "execution_count": 6,
   "metadata": {},
   "outputs": [
    {
     "data": {
      "text/plain": [
       "[45, 13, 12, 6, 5, 4, 3, 2, 1]"
      ]
     },
     "execution_count": 6,
     "metadata": {},
     "output_type": "execute_result"
    }
   ],
   "source": [
    "l.reverse()\n",
    "l"
   ]
  }
 ],
 "metadata": {
  "kernelspec": {
   "display_name": "Python 3",
   "language": "python",
   "name": "python3"
  },
  "language_info": {
   "codemirror_mode": {
    "name": "ipython",
    "version": 3
   },
   "file_extension": ".py",
   "mimetype": "text/x-python",
   "name": "python",
   "nbconvert_exporter": "python",
   "pygments_lexer": "ipython3",
   "version": "3.8.5"
  }
 },
 "nbformat": 4,
 "nbformat_minor": 4
}
