{
 "cells": [
  {
   "cell_type": "code",
   "execution_count": 1,
   "metadata": {},
   "outputs": [
    {
     "name": "stdout",
     "output_type": "stream",
     "text": [
      "<class 'list'>\n"
     ]
    }
   ],
   "source": [
    "l=[1,2,3]\n",
    "print(type(l))"
   ]
  },
  {
   "cell_type": "code",
   "execution_count": 10,
   "metadata": {},
   "outputs": [
    {
     "name": "stdout",
     "output_type": "stream",
     "text": [
      "<__main__.car object at 0x0000012151F5ECA0>\n",
      "mercedes\n"
     ]
    }
   ],
   "source": [
    "class car:\n",
    "    car_brand=\"mercedes\"\n",
    "c=car()\n",
    "print(c)\n",
    "print(c.car_brand)"
   ]
  },
  {
   "cell_type": "code",
   "execution_count": 17,
   "metadata": {},
   "outputs": [
    {
     "name": "stdout",
     "output_type": "stream",
     "text": [
      "the glseries of black color is having a top speed of 220\n"
     ]
    }
   ],
   "source": [
    "class car:\n",
    "    car_brand=\"m\"\n",
    "    def __init__(self,name,color,ts): #self is pointer it show he belongs to which class\n",
    "        self.name=name\n",
    "        self.color=color\n",
    "        self.ts=ts\n",
    "    def hatchback(self):\n",
    "        print(f\"the {self.name} of {self.color} color is having a top speed of {self.ts}\")\n",
    "        \n",
    "c=car(\"glseries\",\"black\",220)\n",
    "c.hatchback()"
   ]
  },
  {
   "cell_type": "code",
   "execution_count": 29,
   "metadata": {},
   "outputs": [
    {
     "name": "stdout",
     "output_type": "stream",
     "text": [
      "the area of rectangle is =  90\n",
      "the parameter of rectangle is =  38\n"
     ]
    }
   ],
   "source": [
    "class shape:\n",
    "    shape_type=\"rectangle\"\n",
    "    def __init__(self,l,b):\n",
    "        self.l=l\n",
    "        self.b=b\n",
    "    def ar(self):\n",
    "        print(\"the area of rectangle is = \",(self.l*self.b) )\n",
    "    def pr(self):\n",
    "        print(\"the parameter of rectangle is = \",2*(self.l+self.b))\n",
    "        \n",
    "s=shape(10,9)\n",
    "s.ar()\n",
    "s.pr()"
   ]
  },
  {
   "cell_type": "code",
   "execution_count": 32,
   "metadata": {},
   "outputs": [
    {
     "name": "stdout",
     "output_type": "stream",
     "text": [
      "10\n",
      "8\n",
      "the area of rectangle is =  80\n",
      "the parameter of rectangle is =  36\n"
     ]
    }
   ],
   "source": [
    "class shape:\n",
    "    shape_type=\"rectangle\"\n",
    "    def __init__(self,l,b):\n",
    "        self.l=l\n",
    "        self.b=b\n",
    "    def ar(self):\n",
    "        print(\"the area of rectangle is = \",(self.l*self.b) )\n",
    "    def pr(self):\n",
    "        print(\"the parameter of rectangle is = \",2*(self.l+self.b))\n",
    "        \n",
    "s=shape(int(input()),int(input()))\n",
    "s.ar()\n",
    "s.pr()"
   ]
  },
  {
   "cell_type": "code",
   "execution_count": 9,
   "metadata": {},
   "outputs": [
    {
     "name": "stdout",
     "output_type": "stream",
     "text": [
      "enter the seat :-7\n",
      "enter the transmission type :- petrol\n",
      "the 7 wheeler is having fuel_type petrol\n"
     ]
    }
   ],
   "source": [
    "class vehicle:\n",
    "    def __init__(self,wofv,ft):\n",
    "        self.wofv=int(input(\"enter the seat :-\"))\n",
    "        self.ft=input(\"enter the transmission type :- \")\n",
    "    def details(self):\n",
    "        print(f\"the {self.wofv} wheeler is having fuel_type {self.ft}\")\n",
    "    def capacity(self):\n",
    "        if self.wofv==2:\n",
    "            print(\"capacity is : \",self.wofv)\n",
    "        elif self.wofv==3:\n",
    "            print(\"capacity is : \",self.wofv)\n",
    "        elif self.wofv==4:\n",
    "            type1=input(\"enter bus or car = \",self.wofv)\n",
    "            if type1==\"bus\":\n",
    "                print(\"capacity is 50\",self.wofv)\n",
    "            else:\n",
    "                print(\"the capacity is 6\",self.wofv)\n",
    "v=vehicle(1,\"petrol\")\n",
    "v.details()\n",
    "v.capacity()"
   ]
  }
 ],
 "metadata": {
  "kernelspec": {
   "display_name": "Python 3",
   "language": "python",
   "name": "python3"
  },
  "language_info": {
   "codemirror_mode": {
    "name": "ipython",
    "version": 3
   },
   "file_extension": ".py",
   "mimetype": "text/x-python",
   "name": "python",
   "nbconvert_exporter": "python",
   "pygments_lexer": "ipython3",
   "version": "3.8.5"
  }
 },
 "nbformat": 4,
 "nbformat_minor": 4
}
