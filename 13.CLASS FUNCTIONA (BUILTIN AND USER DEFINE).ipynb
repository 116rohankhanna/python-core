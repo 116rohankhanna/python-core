{
 "cells": [
  {
   "cell_type": "markdown",
   "metadata": {},
   "source": [
    "functions are 2 types :\n",
    "1)  builtin \n",
    "2) user-define"
   ]
  },
  {
   "cell_type": "code",
   "execution_count": 2,
   "metadata": {},
   "outputs": [
    {
     "name": "stdout",
     "output_type": "stream",
     "text": [
      "300\n"
     ]
    }
   ],
   "source": [
    "#built in function\n",
    "def functions_name(a,b):\n",
    "    c=a+b\n",
    "    print(c)\n",
    "functions_name(100,200) #fuction call is always outside the function"
   ]
  },
  {
   "cell_type": "code",
   "execution_count": 3,
   "metadata": {},
   "outputs": [
    {
     "name": "stdout",
     "output_type": "stream",
     "text": [
      "6000\n"
     ]
    }
   ],
   "source": [
    "functions_name(1000,5000) #we call function n times in whole proogrammming..."
   ]
  },
  {
   "cell_type": "code",
   "execution_count": 12,
   "metadata": {},
   "outputs": [
    {
     "name": "stdout",
     "output_type": "stream",
     "text": [
      "the temp is celcius is = 0.0\n"
     ]
    }
   ],
   "source": [
    "#waf to calculate the temperature in celcius by takeing a arguments as fah temp\n",
    "def temp(f): #the bracket mean is parameter\n",
    "    c=(5/9)*(f-32)\n",
    "    print(\"the temp is celcius is =\",c)\n",
    "temp(32)"
   ]
  },
  {
   "cell_type": "code",
   "execution_count": 17,
   "metadata": {},
   "outputs": [
    {
     "name": "stdout",
     "output_type": "stream",
     "text": [
      "fail\n"
     ]
    }
   ],
   "source": [
    "#waf to give grades to a student basis his marks \n",
    "def marks(a):\n",
    "    if a==100:\n",
    "        print(\"A+\")\n",
    "    elif 90<a<99:\n",
    "        print(\" A\")\n",
    "    elif 80<a<90:\n",
    "        print(\"B+\")\n",
    "    elif 70<a<80:\n",
    "        print(\"B\")\n",
    "    elif 60<a<70:\n",
    "        print(\"C+\")\n",
    "    elif 50<a<60:\n",
    "        print(\"C\")\n",
    "    else:\n",
    "        print(\"fail\")\n",
    "marks(50)"
   ]
  },
  {
   "cell_type": "code",
   "execution_count": 22,
   "metadata": {},
   "outputs": [
    {
     "name": "stdout",
     "output_type": "stream",
     "text": [
      "C+\n"
     ]
    }
   ],
   "source": [
    "marks(61)"
   ]
  },
  {
   "cell_type": "code",
   "execution_count": 37,
   "metadata": {},
   "outputs": [
    {
     "name": "stdout",
     "output_type": "stream",
     "text": [
      "5  34  2  1  "
     ]
    }
   ],
   "source": [
    "#waf to print the list in reverse order \n",
    "def rev(a):\n",
    "    for i in range(-1,-5,-1): #range main hamrea pass jo no hain wo reverse index hain\n",
    "        print(a[i],end =\"  \") #[i] means it take particular value of i\n",
    "rev([1,2,34,5])\n",
    "        \n",
    "        "
   ]
  },
  {
   "cell_type": "code",
   "execution_count": 55,
   "metadata": {},
   "outputs": [
    {
     "name": "stdout",
     "output_type": "stream",
     "text": [
      "n\n",
      "a\n",
      "h\n",
      "o\n",
      "r\n"
     ]
    }
   ],
   "source": [
    "#s=\"madam\"\n",
    "i=0\n",
    "def rev(a):\n",
    "    for i in range(-1,-6,-1):\n",
    "        print(a[i])\n",
    "rev(\"rohan\")\n",
    "\n",
    "\n",
    "\n",
    "        \n",
    "        "
   ]
  },
  {
   "cell_type": "code",
   "execution_count": 56,
   "metadata": {},
   "outputs": [
    {
     "name": "stdout",
     "output_type": "stream",
     "text": [
      "11 aman singh\n"
     ]
    }
   ],
   "source": [
    "#  4 types of funxtion to my parameters:-\n",
    "\n",
    "# 1) required :- #how many parameters we basically need to carry out the logic \n",
    "# ex:- \n",
    "def a(v,m,x):\n",
    "    print(v,m,x)\n",
    "a(11,\"aman\",\"singh\")\n",
    "    "
   ]
  },
  {
   "cell_type": "code",
   "execution_count": 57,
   "metadata": {},
   "outputs": [
    {
     "name": "stdout",
     "output_type": "stream",
     "text": [
      "11 aman singh\n"
     ]
    }
   ],
   "source": [
    "# 2) default \n",
    "def a(v,m=\"aman\",x=\"singh\"):\n",
    "    print(v,m,x)\n",
    "a(11)"
   ]
  },
  {
   "cell_type": "code",
   "execution_count": 58,
   "metadata": {},
   "outputs": [
    {
     "name": "stdout",
     "output_type": "stream",
     "text": [
      "11 b c\n"
     ]
    }
   ],
   "source": [
    "a(11,\"b\",\"c\") #value over write is also possible"
   ]
  },
  {
   "cell_type": "code",
   "execution_count": 59,
   "metadata": {},
   "outputs": [
    {
     "name": "stdout",
     "output_type": "stream",
     "text": [
      "11 aman singh\n"
     ]
    }
   ],
   "source": [
    "#3) keyword :-\n",
    "def a(v,m=\"aman\",x=\"singh\"):\n",
    "    print(v,m,x)\n",
    "a(v=11,m=\"aman\",x=\"singh\")\n"
   ]
  },
  {
   "cell_type": "code",
   "execution_count": 60,
   "metadata": {},
   "outputs": [],
   "source": [
    "# 4) arbitary :- also 2 differnt types\n",
    "\n",
    "#1) *args\n",
    "#2) **kwargs\n",
    "\n"
   ]
  },
  {
   "cell_type": "code",
   "execution_count": 5,
   "metadata": {},
   "outputs": [
    {
     "name": "stdout",
     "output_type": "stream",
     "text": [
      "1,2,true,aman,sjcj,rk,"
     ]
    }
   ],
   "source": [
    "#1) *args # *this is compulasary but we need too use this sign * \n",
    "def cal(*a):\n",
    "    for i in a:\n",
    "        print(i,end =\",\")\n",
    "cal(1,2,\"true\",\"aman\",\"sjcj\",\"rk\")"
   ]
  },
  {
   "cell_type": "code",
   "execution_count": 6,
   "metadata": {},
   "outputs": [
    {
     "name": "stdout",
     "output_type": "stream",
     "text": [
      "(1, 2, 'true', 'aman', 'sjcj', 'rk')\n",
      "<class 'tuple'>\n",
      "1\n",
      "2\n",
      "true\n",
      "aman\n",
      "sjcj\n",
      "rk\n"
     ]
    }
   ],
   "source": [
    "def cal(*a):\n",
    "    print(a)\n",
    "    print(type(a))\n",
    "    for i in a:\n",
    "        print(i)\n",
    "cal(1,2,\"true\",\"aman\",\"sjcj\",\"rk\")"
   ]
  },
  {
   "cell_type": "code",
   "execution_count": 13,
   "metadata": {},
   "outputs": [
    {
     "name": "stdout",
     "output_type": "stream",
     "text": [
      "{'a': 1, 'b': 2, 'c': 'true', 'd': 'aman', 'rk': 'sjcj', 'ok': 'rk'}\n",
      "<class 'dict'>\n",
      "a 1\n",
      "b 2\n",
      "c true\n",
      "d aman\n",
      "rk sjcj\n",
      "ok rk\n"
     ]
    }
   ],
   "source": [
    "#2) **kwargs\n",
    "def cal(**a):\n",
    "    print(a)\n",
    "    print(type(a))\n",
    "    for i,j in a.items():\n",
    "        print(i,j)\n",
    "cal(a=1,b=2,c=\"true\",d=\"aman\",rk=\"sjcj\",ok=\"rk\")"
   ]
  },
  {
   "cell_type": "code",
   "execution_count": null,
   "metadata": {},
   "outputs": [],
   "source": []
  }
 ],
 "metadata": {
  "kernelspec": {
   "display_name": "Python 3",
   "language": "python",
   "name": "python3"
  },
  "language_info": {
   "codemirror_mode": {
    "name": "ipython",
    "version": 3
   },
   "file_extension": ".py",
   "mimetype": "text/x-python",
   "name": "python",
   "nbconvert_exporter": "python",
   "pygments_lexer": "ipython3",
   "version": "3.8.5"
  }
 },
 "nbformat": 4,
 "nbformat_minor": 4
}
