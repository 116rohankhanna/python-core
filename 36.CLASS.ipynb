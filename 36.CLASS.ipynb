{
 "cells": [
  {
   "cell_type": "markdown",
   "id": "b73bf101",
   "metadata": {},
   "source": [
    "20. Define a class with a generator which can iterate the numbers, which are divisible by 7, between a given\n",
    "range 0 and n. Hints: Consider use yield"
   ]
  },
  {
   "cell_type": "code",
   "execution_count": 1,
   "id": "cf8928d2",
   "metadata": {},
   "outputs": [
    {
     "name": "stdout",
     "output_type": "stream",
     "text": [
      "[0, 7, 14, 21, 28, 35, 42, 49, 56, 63, 70, 77, 84, 91, 98]\n"
     ]
    }
   ],
   "source": [
    "def generator(n):\n",
    "    a= range(0,n)\n",
    "    for i in a:\n",
    "        if i%7==0:\n",
    "            yield i\n",
    "print (list(generator(100)))"
   ]
  },
  {
   "cell_type": "markdown",
   "id": "54319bc2",
   "metadata": {},
   "source": [
    "23. :1 3?:1 New:1 Python:5 Read:1 and:1 between:1 choosing:1 or:2 to:1 Hints: In case of input data being\n",
    "supplied to the question, it should be assumed to be a console input."
   ]
  },
  {
   "cell_type": "code",
   "execution_count": 4,
   "id": "1c7989b5",
   "metadata": {},
   "outputs": [],
   "source": [
    "from collections import Counter"
   ]
  },
  {
   "cell_type": "code",
   "execution_count": 5,
   "id": "bc2aaeee",
   "metadata": {},
   "outputs": [
    {
     "data": {
      "text/plain": [
       "Counter({'2': 2,\n",
       "         '3': 1,\n",
       "         '3?': 1,\n",
       "         'New': 1,\n",
       "         'Python': 5,\n",
       "         'Read': 1,\n",
       "         'and': 1,\n",
       "         'between': 1,\n",
       "         'choosing': 1,\n",
       "         'or': 2,\n",
       "         'to': 1})"
      ]
     },
     "execution_count": 5,
     "metadata": {},
     "output_type": "execute_result"
    }
   ],
   "source": [
    "s=\"New to Python or choosing between Python 2 and Python 3? Read Python 2 or Python 3\"\n",
    "l=s.split()\n",
    "l.sort()\n",
    "l\n",
    "Counter(l)"
   ]
  },
  {
   "cell_type": "markdown",
   "id": "11eb257c",
   "metadata": {},
   "source": [
    "24. Write a method which can calculate square value of number Hints: Using the ** operator\n"
   ]
  },
  {
   "cell_type": "code",
   "execution_count": 6,
   "id": "861027e4",
   "metadata": {},
   "outputs": [
    {
     "name": "stdout",
     "output_type": "stream",
     "text": [
      "1 4 9 16 25 "
     ]
    }
   ],
   "source": [
    "a=[1,2,3,4,5]\n",
    "for i in a:\n",
    "     print(i**2,end=\" \")"
   ]
  },
  {
   "cell_type": "code",
   "execution_count": null,
   "id": "a444fb4d",
   "metadata": {},
   "outputs": [],
   "source": []
  }
 ],
 "metadata": {
  "kernelspec": {
   "display_name": "Python 3 (ipykernel)",
   "language": "python",
   "name": "python3"
  },
  "language_info": {
   "codemirror_mode": {
    "name": "ipython",
    "version": 3
   },
   "file_extension": ".py",
   "mimetype": "text/x-python",
   "name": "python",
   "nbconvert_exporter": "python",
   "pygments_lexer": "ipython3",
   "version": "3.9.12"
  }
 },
 "nbformat": 4,
 "nbformat_minor": 5
}
