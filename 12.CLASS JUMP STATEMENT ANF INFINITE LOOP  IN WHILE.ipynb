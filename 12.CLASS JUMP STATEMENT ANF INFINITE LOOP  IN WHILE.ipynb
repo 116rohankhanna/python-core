{
 "cells": [
  {
   "cell_type": "markdown",
   "metadata": {},
   "source": [
    "#jump statement \n",
    "1) break :- sudden stop \n",
    "2) continue :- if stop the specific comand and go forward\n",
    "3)pass :- do nothing"
   ]
  },
  {
   "cell_type": "code",
   "execution_count": 2,
   "metadata": {},
   "outputs": [
    {
     "name": "stdout",
     "output_type": "stream",
     "text": [
      "mad"
     ]
    }
   ],
   "source": [
    "for i in \"madrid\":\n",
    "    if i==\"r\":\n",
    "        break\n",
    "        print(\"gdg\")\n",
    "    else:\n",
    "        print(i,end=\"\")"
   ]
  },
  {
   "cell_type": "code",
   "execution_count": 3,
   "metadata": {},
   "outputs": [
    {
     "name": "stdout",
     "output_type": "stream",
     "text": [
      "madid"
     ]
    }
   ],
   "source": [
    "for i in \"madrid\":\n",
    "    if i==\"r\":\n",
    "        continue\n",
    "        print(\"gdg\")\n",
    "    else:\n",
    "        print(i,end=\"\")"
   ]
  },
  {
   "cell_type": "code",
   "execution_count": 6,
   "metadata": {},
   "outputs": [
    {
     "name": "stdout",
     "output_type": "stream",
     "text": [
      "madgdg r\n",
      "id"
     ]
    }
   ],
   "source": [
    "for i in \"madrid\":\n",
    "    if i==\"r\":\n",
    "        pass\n",
    "        print(\"gdg\",i)\n",
    "    else:\n",
    "        print(i,end=\"\")"
   ]
  },
  {
   "cell_type": "code",
   "execution_count": 17,
   "metadata": {},
   "outputs": [
    {
     "name": "stdout",
     "output_type": "stream",
     "text": [
      "the cube is 1 = 1\n",
      "the cube is 2 = 8\n",
      "the cube is 4 = 64\n",
      "the cube is 5 = 125\n",
      "the cube is 6 = 216\n",
      "the cube is 7 = 343\n",
      "the cube is 9 = 729\n",
      "the cube is 10 = 1000\n"
     ]
    }
   ],
   "source": [
    "#wap to print the cube of no from 1 to 10 except 3 and 8 using while loop\n",
    "i=1\n",
    "while i<=10:\n",
    "    if i==3 or i==8 :\n",
    "        i+=1\n",
    "        continue\n",
    "    else:\n",
    "        print(\"the cube is\",i, \"=\",i**3)\n",
    "        i+=1\n"
   ]
  },
  {
   "cell_type": "code",
   "execution_count": 22,
   "metadata": {},
   "outputs": [
    {
     "name": "stdout",
     "output_type": "stream",
     "text": [
      "spidermansuperman"
     ]
    }
   ],
   "source": [
    "#wap to print \" spiderman superman \" to print this string without space\n",
    "for i in  \"spiderman superman \":\n",
    "    if i ==\" \":\n",
    "        continue\n",
    "    print(i,end=\"\")"
   ]
  },
  {
   "cell_type": "markdown",
   "metadata": {},
   "source": [
    "# infinite loop in while"
   ]
  },
  {
   "cell_type": "markdown",
   "metadata": {},
   "source": [
    "while True: #T is always captial \n",
    "    "
   ]
  },
  {
   "cell_type": "code",
   "execution_count": 31,
   "metadata": {},
   "outputs": [
    {
     "name": "stdout",
     "output_type": "stream",
     "text": [
      "1000\n",
      "1331\n",
      "2197\n",
      "2744\n"
     ]
    }
   ],
   "source": [
    "while True:\n",
    "    l=[10,11,13,14,21,15,21]\n",
    "    for i in l:\n",
    "        if i**3>8000:\n",
    "            break #it doesnot skip 21 \n",
    "        else:\n",
    "            print(i**3)\n",
    "    break\n",
    "    "
   ]
  },
  {
   "cell_type": "code",
   "execution_count": 26,
   "metadata": {},
   "outputs": [
    {
     "data": {
      "text/plain": [
       "91125"
      ]
     },
     "execution_count": 26,
     "metadata": {},
     "output_type": "execute_result"
    }
   ],
   "source": [
    "45**3"
   ]
  },
  {
   "cell_type": "code",
   "execution_count": 32,
   "metadata": {},
   "outputs": [
    {
     "name": "stdout",
     "output_type": "stream",
     "text": [
      "1000\n",
      "1331\n",
      "2197\n",
      "2744\n",
      "3375\n"
     ]
    }
   ],
   "source": [
    "while True:\n",
    "    l=[10,11,13,14,21,15,21]\n",
    "    for i in l:\n",
    "        if i**3>8000:\n",
    "            continue #its skip 21 and go for 15\n",
    "        else:\n",
    "            print(i**3)\n",
    "    break"
   ]
  },
  {
   "cell_type": "code",
   "execution_count": 49,
   "metadata": {},
   "outputs": [
    {
     "name": "stdout",
     "output_type": "stream",
     "text": [
      "enter your username = dfdf\n",
      "enter password = fdff\n",
      "Try again\n",
      "enter your username = dff\n",
      "enter password = dff\n",
      "Try again\n",
      "enter your username = fdf\n",
      "enter password = dff\n",
      "Try again\n",
      "blocked can not give more chances\n"
     ]
    }
   ],
   "source": [
    "c=0\n",
    "while True :\n",
    "    a=input(\"enter your username = \")\n",
    "    b=input(\"enter password = \")\n",
    "    if a==\"username\" and b==\"1234\":\n",
    "        print(\"go a head \")\n",
    "        break\n",
    "    else:\n",
    "        print(\"Try again\")\n",
    "        c=c+1\n",
    "    if c==3:\n",
    "        print(\"blocked can not give more chances\")\n",
    "        break\n",
    "        \n",
    "    \n",
    "    "
   ]
  }
 ],
 "metadata": {
  "kernelspec": {
   "display_name": "Python 3",
   "language": "python",
   "name": "python3"
  },
  "language_info": {
   "codemirror_mode": {
    "name": "ipython",
    "version": 3
   },
   "file_extension": ".py",
   "mimetype": "text/x-python",
   "name": "python",
   "nbconvert_exporter": "python",
   "pygments_lexer": "ipython3",
   "version": "3.8.5"
  }
 },
 "nbformat": 4,
 "nbformat_minor": 4
}
