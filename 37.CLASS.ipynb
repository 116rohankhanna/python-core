{
 "cells": [
  {
   "cell_type": "markdown",
   "id": "75d9555c",
   "metadata": {},
   "source": [
    "25. Define a class, which have a class parameter and have a same instance parameter. Hints: Define a\n",
    "instance parameter, need add it in init method You can init a object with construct parameter or set the\n",
    "value later"
   ]
  },
  {
   "cell_type": "code",
   "execution_count": 1,
   "id": "16d3170b",
   "metadata": {},
   "outputs": [
    {
     "name": "stdout",
     "output_type": "stream",
     "text": [
      "my name is -  Thakur\n",
      "My age is :  9\n"
     ]
    }
   ],
   "source": [
    "class Person:\n",
    "    def __init__(self, name, age):\n",
    "        self.name = name\n",
    "        self.age= age\n",
    "    def x(self):\n",
    "        print('my name is - '+self.name)\n",
    " \n",
    " \n",
    "p1= Person(' Thakur',9)\n",
    "p1.x()\n",
    "print(\"My age is : \", p1.age)"
   ]
  },
  {
   "cell_type": "markdown",
   "id": "7a9e90f5",
   "metadata": {},
   "source": [
    "26. Define a function which can compute the sum of two numbers. Hints: Define a function with two numbers\n",
    "as arguments. You can compute the sum in the function and return the value."
   ]
  },
  {
   "cell_type": "code",
   "execution_count": 2,
   "id": "86258647",
   "metadata": {},
   "outputs": [],
   "source": [
    "def calc(a,b):\n",
    "    add=a+b\n",
    "    return add"
   ]
  },
  {
   "cell_type": "code",
   "execution_count": 3,
   "id": "3db6deb6",
   "metadata": {},
   "outputs": [
    {
     "data": {
      "text/plain": [
       "31"
      ]
     },
     "execution_count": 3,
     "metadata": {},
     "output_type": "execute_result"
    }
   ],
   "source": [
    "calc(15,16)\n"
   ]
  },
  {
   "cell_type": "code",
   "execution_count": null,
   "id": "c0e80d32",
   "metadata": {},
   "outputs": [],
   "source": []
  }
 ],
 "metadata": {
  "kernelspec": {
   "display_name": "Python 3 (ipykernel)",
   "language": "python",
   "name": "python3"
  },
  "language_info": {
   "codemirror_mode": {
    "name": "ipython",
    "version": 3
   },
   "file_extension": ".py",
   "mimetype": "text/x-python",
   "name": "python",
   "nbconvert_exporter": "python",
   "pygments_lexer": "ipython3",
   "version": "3.9.12"
  }
 },
 "nbformat": 4,
 "nbformat_minor": 5
}
