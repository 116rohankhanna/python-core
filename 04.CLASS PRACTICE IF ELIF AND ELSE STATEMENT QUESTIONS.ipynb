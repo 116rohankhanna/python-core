{
 "cells": [
  {
   "cell_type": "code",
   "execution_count": 1,
   "metadata": {},
   "outputs": [
    {
     "name": "stdout",
     "output_type": "stream",
     "text": [
      "enter the weather = rainy\n",
      "not play\n"
     ]
    }
   ],
   "source": [
    "print(\"i want to play cricket\")\n",
    "w=input(\"enter the weather = \") #sunny ,cold,rainy,windy\n",
    "if w==\"sunny\":\n",
    "    print(\"lets play\")\n",
    "elif w==\"rainy\":\n",
    "    print(\"not play\")\n",
    "elif w==\"windy\":\n",
    "    print(\"lets play\")\n",
    "else:\n",
    "    print(\"lets play\")"
   ]
  },
  {
   "cell_type": "markdown",
   "metadata": {},
   "source": [
    "#wap to take input from the user regarding the weight and height then calculate\n",
    " bmi and tell which category the bmi belongs \n",
    "and print the bmi to be under weight (0-16),normal(16-20),overweight(20-25),above 25-obese"
   ]
  },
  {
   "cell_type": "code",
   "execution_count": 2,
   "metadata": {},
   "outputs": [
    {
     "name": "stdout",
     "output_type": "stream",
     "text": [
      "enter your weight = 62\n",
      "enter your height in meter  =1.69\n",
      "bmi is = 21.707923392038097\n",
      "over weight\n"
     ]
    }
   ],
   "source": [
    "a=float(input(\"enter your weight = \"))\n",
    "b=float(input(\"enter your height in meter  =\" ))\n",
    "c=a/(b**2)\n",
    "print(\"bmi is =\",c)\n",
    "if c>0 and c<=16:\n",
    "    print(\"you are under weight\")\n",
    "elif c>16 and c<=20:\n",
    "    print(\"your weight is normal\")\n",
    "elif c>20 and c<=25: # 25>=c>20 (alternate methods)\n",
    "    print(\"over weight\")\n",
    "else:\n",
    "    print(\"obese\")"
   ]
  },
  {
   "cell_type": "markdown",
   "metadata": {},
   "source": [
    "#wap to give grades to a students based on marks taken as a input from the user\n",
    "marks>99=A+\n",
    "marks80-90=A\n",
    "marks70-80=B\n",
    "marks 60-70=C\n",
    "marks 50-60=D\n",
    "marks less than 50 = fails"
   ]
  },
  {
   "cell_type": "code",
   "execution_count": 3,
   "metadata": {},
   "outputs": [
    {
     "name": "stdout",
     "output_type": "stream",
     "text": [
      "enter yours marks = 71\n",
      "B\n"
     ]
    }
   ],
   "source": [
    "a=int(input(\"enter yours marks = \"))\n",
    "if a>=100:\n",
    "    print(\"A+\")\n",
    "elif 90>=a>80:\n",
    "    print(\"A\")\n",
    "elif 80>=a>70:\n",
    "    print(\"B\")\n",
    "elif 70>=a>60:\n",
    "    print(\"c\")\n",
    "elif 60>=a>50:\n",
    "    print(\"D\")\n",
    "else:\n",
    "    print(\"you are fail\")"
   ]
  },
  {
   "cell_type": "markdown",
   "metadata": {},
   "source": [
    "elections are to happen in delhi and we need a cm ,\n",
    "eliglible condition for the post of cm are \n",
    "1)criminal record should b is zero\n",
    "2) he could be past cm=\"yes\"\n",
    "3) education = \"graduate\"\n",
    "4)age>45\n"
   ]
  },
  {
   "cell_type": "code",
   "execution_count": 5,
   "metadata": {},
   "outputs": [
    {
     "name": "stdout",
     "output_type": "stream",
     "text": [
      " you have any criminal record yes or no = yes\n",
      "cm in past yes or nono\n",
      "educate or not = educate\n",
      "enter your age = 50\n",
      "you are not eliglible\n"
     ]
    }
   ],
   "source": [
    "a=input(\" you have any criminal record yes or no = \")\n",
    "b=input(\"cm in past yes or no = \")\n",
    "c=input(\"educate or not = \")\n",
    "d=int(input(\"enter your age = \"))\n",
    "if a==0 and b==\"yes\" and  c<=\"educate\" & d>45 :\n",
    "    print(\"eliglible\")\n",
    "else:\n",
    "    print(\"you are not eliglible\")\n",
    "    "
   ]
  },
  {
   "cell_type": "markdown",
   "metadata": {},
   "source": [
    "wap to take input regarding the tro of the news channel f the trp>10k rating 5 , between 8-10k 4 rating , 6-8k 3 star,4-6k 2 star,2-4k 1 star"
   ]
  },
  {
   "cell_type": "code",
   "execution_count": 6,
   "metadata": {},
   "outputs": [
    {
     "name": "stdout",
     "output_type": "stream",
     "text": [
      "enter the trp = 78\n",
      "1 star\n"
     ]
    }
   ],
   "source": [
    "a=int(input(\"enter the trp = \"))\n",
    "if 10000<a:\n",
    "    print(\"5 star\")\n",
    "elif 10000>=a>8000:\n",
    "    print(\"4 star\")\n",
    "elif 8000>=a>6000:\n",
    "    print(\"3 star\")\n",
    "elif 6000>=a>4000:\n",
    "    print(\"2 star\")\n",
    "else:\n",
    "    print(\"1 star\")"
   ]
  },
  {
   "cell_type": "markdown",
   "metadata": {},
   "source": [
    "wap to check number entered by the user is divisible by 5 or not it its divisible by 5 print \" hooray \" elseprint\" bad luck\"\n"
   ]
  },
  {
   "cell_type": "code",
   "execution_count": 7,
   "metadata": {
    "scrolled": true
   },
   "outputs": [
    {
     "name": "stdout",
     "output_type": "stream",
     "text": [
      "enter any number = 23\n",
      "bad luck\n"
     ]
    }
   ],
   "source": [
    "a=int(input(\"enter any number = \"))\n",
    "if  a%5==0:\n",
    "    print(\"hooray\")\n",
    "else:\n",
    "    print(\"bad luck\")"
   ]
  }
 ],
 "metadata": {
  "kernelspec": {
   "display_name": "Python 3",
   "language": "python",
   "name": "python3"
  },
  "language_info": {
   "codemirror_mode": {
    "name": "ipython",
    "version": 3
   },
   "file_extension": ".py",
   "mimetype": "text/x-python",
   "name": "python",
   "nbconvert_exporter": "python",
   "pygments_lexer": "ipython3",
   "version": "3.8.5"
  }
 },
 "nbformat": 4,
 "nbformat_minor": 4
}
