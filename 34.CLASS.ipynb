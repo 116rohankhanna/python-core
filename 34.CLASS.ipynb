{
 "cells": [
  {
   "cell_type": "markdown",
   "id": "357de215",
   "metadata": {},
   "source": [
    "13. Write a program that accepts a sentence and calculate the number of letters and digits. Suppose the input\n",
    "is suMpplied to the program: hello world! 123 Then, the output should be: LETTERS 10\n",
    "DIGITS 3 Hints: In case of input data being supplied to the question, it should be assumed to be a console\n",
    "input."
   ]
  },
  {
   "cell_type": "code",
   "execution_count": 2,
   "id": "73827368",
   "metadata": {},
   "outputs": [
    {
     "name": "stdout",
     "output_type": "stream",
     "text": [
      "Enter a string  Hello Delhi! 12345\n",
      "Letters 10\n",
      "Digits 5\n"
     ]
    }
   ],
   "source": [
    "a= input(\"Enter a string \")\n",
    "d=l=0\n",
    "for c in a:\n",
    "    if c.isdigit():\n",
    "        d=d+1\n",
    "    elif c.isalpha():\n",
    "         l=l+1\n",
    "    else:\n",
    "         pass\n",
    "print(\"Letters\", l)\n",
    "print(\"Digits\", d)"
   ]
  },
  {
   "cell_type": "markdown",
   "id": "7b9abb5b",
   "metadata": {},
   "source": [
    "14. Write a program that accepts a sentence and calculate the number of upper case letters and lower case\n",
    "letters. Suppose the input is supplied to the program: Hello world! Then, the output should be: UPPER\n",
    "CASE 1 LOWER CASE 9 Hints: In case of input data being supplied to the question, it should be assumed\n",
    "to be a console input."
   ]
  },
  {
   "cell_type": "code",
   "execution_count": 7,
   "id": "bf21cc17",
   "metadata": {},
   "outputs": [
    {
     "name": "stdout",
     "output_type": "stream",
     "text": [
      "Enter a string Hello Delhi\n",
      "Upper case :  2\n",
      "lower case :  8\n"
     ]
    }
   ],
   "source": [
    "a=input('Enter a string ')\n",
    "u=l=0\n",
    "for c in a:\n",
    "    if c.isupper():\n",
    "         u=u+1\n",
    "    elif c.islower():\n",
    "         l=l+1\n",
    " \n",
    "    else:\n",
    "        pass\n",
    "print('Upper case : ', u)\n",
    "print('lower case : ', l)\n"
   ]
  },
  {
   "cell_type": "code",
   "execution_count": null,
   "id": "3d179832",
   "metadata": {},
   "outputs": [],
   "source": []
  }
 ],
 "metadata": {
  "kernelspec": {
   "display_name": "Python 3 (ipykernel)",
   "language": "python",
   "name": "python3"
  },
  "language_info": {
   "codemirror_mode": {
    "name": "ipython",
    "version": 3
   },
   "file_extension": ".py",
   "mimetype": "text/x-python",
   "name": "python",
   "nbconvert_exporter": "python",
   "pygments_lexer": "ipython3",
   "version": "3.9.12"
  }
 },
 "nbformat": 4,
 "nbformat_minor": 5
}
