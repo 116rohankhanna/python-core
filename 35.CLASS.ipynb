{
 "cells": [
  {
   "cell_type": "markdown",
   "id": "b1fea8b0",
   "metadata": {},
   "source": [
    "16. Use a list comprehension to square each odd number in a list. The list is input by a sequence of comma\u0002separated numbers. Suppose the input is supplied to the program: 1,2,3,4,5,6,7,8,9 Then, the output\n",
    "should be: 1, 3, 5, 7, 9 Hints: In case of input data being supplied to the question, it should be assumed to\n",
    "be a console input\n"
   ]
  },
  {
   "cell_type": "code",
   "execution_count": 8,
   "id": "0e9a591b",
   "metadata": {},
   "outputs": [
    {
     "name": "stdout",
     "output_type": "stream",
     "text": [
      "Enter any number = 1,2,3,4,5,6,7,8,9\n",
      "['1', '3', '5', '7', '9']\n"
     ]
    }
   ],
   "source": [
    "a=(input('Enter any number = '))\n",
    "b= [x for x in a.split(\",\") if int(x)%2!=0]\n",
    "\n",
    "print(b)\n"
   ]
  },
  {
   "cell_type": "markdown",
   "id": "eba36105",
   "metadata": {},
   "source": [
    "17. Write a program that computes the net amount of a bank account based a transaction log from console\n",
    "input. The transaction log format is shown as following: D 100 W 200\n",
    "--D means deposit while W means withdrawal. Suppose the input is supplied to the program: D 300\n",
    "D 300 W 200 D 100 Then, the output should be: 500 Hints: In case of input data being supplied to the question,\n",
    "it should be assumed to be a console input.\n"
   ]
  },
  {
   "cell_type": "code",
   "execution_count": 9,
   "id": "6b42ba15",
   "metadata": {},
   "outputs": [
    {
     "name": "stdout",
     "output_type": "stream",
     "text": [
      "Enter the amount you want to deposit : 2000\n",
      "The deposit amount is : 2000\n",
      "Enter the amount you want to withdraw : 1200\n",
      "You have withdrawn :  1200\n",
      "Your balance is :  800\n"
     ]
    }
   ],
   "source": [
    "d=input(\"Enter the amount you want to deposit : \").split(\" , \")\n",
    "l=[] \n",
    "s=0\n",
    "for i in d:\n",
    "    l.append(i) \n",
    "l\n",
    "for v in l:\n",
    "    v=int(v)\n",
    "    s=s+v\n",
    "print(\"The deposit amount is :\", s)\n",
    "w=input(\"Enter the amount you want to withdraw : \").split(\" , \")\n",
    "ls=[]\n",
    "c=0\n",
    "for a in w:\n",
    "    ls.append(a) \n",
    "ls\n",
    "for b in ls:\n",
    "    b=int(b)\n",
    "    c=c+b \n",
    "print(\"You have withdrawn : \",c)\n",
    "total_amount=s-c\n",
    "print(\"Your balance is : \",total_amount)"
   ]
  },
  {
   "cell_type": "markdown",
   "id": "3952a8f6",
   "metadata": {},
   "source": [
    "18. A website requires the users to input username and password to register. Write a program to check the\n",
    "validity of password input by users. Following are the criteria for checking the password:\n",
    "1. At least 1 letter between [a-z]\n",
    "2. At least 1 number between [0-9]\n",
    "3. At least 1 letter between [A-Z]\n",
    "4. At least 1 character from [$#@]\n",
    "5. Minimum length of transaction password: 6\n",
    "6. Maximum length of transaction password: 12 Your program should accept a sequence of comma separated\n",
    "passwords and will check them according to the above criteria. Passwords that match the criteria are to be\n",
    "printed, each separated by a comma. If the following passwords are given as input to the program:\n",
    "ABd1234@1,a F1#,2w3E*,2We3345 Then, the output of the program should be: ABd1234@1 Hints: In\n",
    "case of input data being supplied to the question, it should be assumed to be a console input."
   ]
  },
  {
   "cell_type": "code",
   "execution_count": 12,
   "id": "de0371c9",
   "metadata": {},
   "outputs": [
    {
     "name": "stdout",
     "output_type": "stream",
     "text": [
      "enter the password:rk123@R,rk!@212,dCSC1@!@33\n",
      "rk123@R,rk!@212,dCSC1@!@33 invaild\n"
     ]
    }
   ],
   "source": [
    "p=input(\"enter the password:\").split()\n",
    "for i in p:\n",
    "    u=0\n",
    "    l=0\n",
    "    d=0\n",
    "    s=0\n",
    "    for j in i:\n",
    "        if j.isupper():\n",
    "            u=u+1\n",
    "        elif j.islower():\n",
    "            l=l+1\n",
    "        elif j.isdigit():\n",
    "            d=d+1\n",
    "        else:\n",
    "            s=s+1\n",
    "    if u>0 and l>0 and d>0 and s>0 and 6<len(i)<=12:\n",
    "        print(i, \"valid\")\n",
    "    else:\n",
    "        print(i, \"invaild\")\n"
   ]
  },
  {
   "cell_type": "code",
   "execution_count": null,
   "id": "0f4f68fa",
   "metadata": {},
   "outputs": [],
   "source": []
  }
 ],
 "metadata": {
  "kernelspec": {
   "display_name": "Python 3 (ipykernel)",
   "language": "python",
   "name": "python3"
  },
  "language_info": {
   "codemirror_mode": {
    "name": "ipython",
    "version": 3
   },
   "file_extension": ".py",
   "mimetype": "text/x-python",
   "name": "python",
   "nbconvert_exporter": "python",
   "pygments_lexer": "ipython3",
   "version": "3.9.12"
  }
 },
 "nbformat": 4,
 "nbformat_minor": 5
}
