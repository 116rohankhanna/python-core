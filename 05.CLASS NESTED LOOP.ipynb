{
 "cells": [
  {
   "cell_type": "code",
   "execution_count": 2,
   "metadata": {},
   "outputs": [
    {
     "name": "stdout",
     "output_type": "stream",
     "text": [
      "enter any no = 67\n",
      "its an odd no\n"
     ]
    }
   ],
   "source": [
    "#wap to print if a no is even or odd \n",
    "n=int(input(\"enter any no = \"))\n",
    "if n%2==0:\n",
    "    print(\"its an even no\")\n",
    "else:\n",
    "    print(\"its an odd no\")\n",
    "   "
   ]
  },
  {
   "cell_type": "markdown",
   "metadata": {},
   "source": [
    "#nested conditions\n",
    "if a>b:\n",
    "    if c==d:\n",
    "        "
   ]
  },
  {
   "cell_type": "code",
   "execution_count": 13,
   "metadata": {},
   "outputs": [
    {
     "name": "stdout",
     "output_type": "stream",
     "text": [
      " enter the weather = cold\n",
      "enter the temperature = 3\n",
      " go out\n"
     ]
    }
   ],
   "source": [
    "temp=input(\" enter the weather = \")\n",
    "if temp==\"sunny\":\n",
    "    temp=float(input(\"enter the temperature = \"))\n",
    "    if temp>45:\n",
    "        humid=input(\"enter humid or not\")\n",
    "        if humid==\"yes\":\n",
    "            print(\"not play\")\n",
    "        else:\n",
    "            print(\"lets play\")\n",
    "    elif temp<=45:\n",
    "        print(\"lets play\")\n",
    "elif temp==\"stomy\":\n",
    "    w_speed=float(input(\"enter the speed of the wind\"))\n",
    "    if  w_speed>80:\n",
    "        print(\"donot go out side\")\n",
    "    else:\n",
    "        print(\"lets play\") \n",
    "elif  temp==\"cold\":\n",
    "    cold=float(input(\"enter the temperature = \"))\n",
    "    if cold>5:\n",
    "        print(\" stay back\")\n",
    "    else:\n",
    "        print(\" go out\")"
   ]
  },
  {
   "cell_type": "markdown",
   "metadata": {},
   "source": [
    "#you r the owner of the resturants and menu :\n",
    "1) pizza\n",
    "2) chinese\n",
    "3) italian\n",
    "4)indian\n",
    "5)continental"
   ]
  },
  {
   "cell_type": "markdown",
   "metadata": {},
   "source": [
    "pizza :\n",
    "    1) veg\n",
    "    2)non-veg\n",
    "size = 1) regular\n",
    "        2) medium\n",
    "        3) large\n",
    "topping :\n",
    "    1)paneer\n",
    "    2)chicken sasuage\n",
    "    "
   ]
  },
  {
   "cell_type": "code",
   "execution_count": 26,
   "metadata": {},
   "outputs": [
    {
     "name": "stdout",
     "output_type": "stream",
     "text": [
      "enter what you want pizza or burger = pizza\n",
      "veg or non_veg : veg\n",
      "choose size large ,medium , small ; large\n",
      "your pizza is large\n"
     ]
    }
   ],
   "source": [
    "a=input(\"enter what you want pizza or burger = \")\n",
    "if a==\"pizza\" :\n",
    "    pizza=input(\"veg or non_veg : \")\n",
    "    if pizza==\"veg\":\n",
    "        size =input(\"choose size large ,medium , small ; \")\n",
    "    if size==\"large\":\n",
    "                print(\"your pizza is large\")\n",
    "    elif size==\"medium\":\n",
    "                print(\"your pizza is medium \")\n",
    "    else:\n",
    "                print(\"your pizza is small\")"
   ]
  },
  {
   "cell_type": "code",
   "execution_count": 29,
   "metadata": {},
   "outputs": [
    {
     "name": "stdout",
     "output_type": "stream",
     "text": [
      "enter the choice : \n",
      " 1. pizza\n",
      " 2.burger \n",
      "pizza\n",
      "enter veg or non veg non veg\n",
      "enter the topping : \n",
      " 1.paneer\n",
      " 2.chicken \n",
      "chicken\n",
      "enter the size :large\n",
      "600rs\n"
     ]
    }
   ],
   "source": [
    "m=input(\"enter the choice : \\n 1. pizza\\n 2.burger \\n\")\n",
    "type=input(\"enter veg or non veg \")\n",
    "topping=input(\"enter the topping : \\n 1.paneer\\n 2.chicken \\n\")\n",
    "if m==\"pizza\":\n",
    "    if type ==\"veg\":\n",
    "        size=input(\"enter the size :\")\n",
    "        if size ==\"regular\" and topping==\"paneer\":\n",
    "            print(\"200rs\")\n",
    "        elif size ==\"medium\" and topping==\"paneer\":\n",
    "            print(\"250rs\")\n",
    "        elif size ==\"large\" and topping==\"paneer\":\n",
    "            print(\"300rs\")\n",
    "    else:\n",
    "        size=input(\"enter the size :\")\n",
    "        if size ==\"regular\" and topping==\"chicken\":\n",
    "            print(\"400rs\")\n",
    "        elif size ==\"medium\" and topping==\"chicken\":\n",
    "            print(\"550rs\")\n",
    "        elif size ==\"large\" and topping==\"chicken\":\n",
    "            print(\"600rs\")"
   ]
  },
  {
   "cell_type": "markdown",
   "metadata": {},
   "source": [
    "there is big billons day sale at flipkart:\n",
    "    and\n",
    "product cate=electronics ,baby product,clothes,grooming,groceries, \n",
    "1)laptop 30%\n",
    "2)phones 10%\n",
    "3) tv 20%\n",
    "4) heahphones 5%\n",
    "if the cate is baby products:\n",
    "    flat 40% off \n",
    "if clothes :\n",
    "    1) males 15%\n",
    "    2)females 20%\n",
    "    "
   ]
  },
  {
   "cell_type": "code",
   "execution_count": 32,
   "metadata": {},
   "outputs": [
    {
     "name": "stdout",
     "output_type": "stream",
     "text": [
      "welcome to the flipkart\n",
      "what product you want : \n",
      " 1. electronics\n",
      " 2. baby_products\n",
      " 3.clothes \n",
      "= electronics\n",
      "laptop,phone,tv,headphonelaptop\n",
      "you get 30% off\n"
     ]
    }
   ],
   "source": [
    "print(\"welcome to the flipkart\")\n",
    "a=input(\"what product you want : \\n 1. electronics\\n 2. baby_products\\n 3.clothes \\n= \")\n",
    "if a==\"electronics\":\n",
    "    electronics=input(\"laptop,phone,tv,headphone\")\n",
    "    if electronics==\"laptop\":\n",
    "        print(\"you get 30% off\")\n",
    "    elif electronics==\"phones\":\n",
    "        print(\"you get 10% off\")\n",
    "    elif electronics==\"tv\":\n",
    "        print(\"you get 20% off \")\n",
    "    elif electronics==\"headphones\":\n",
    "        print(\"you get 5% off\")\n",
    "elif a==\"baby_products\":\n",
    "    "
   ]
  },
  {
   "cell_type": "code",
   "execution_count": 33,
   "metadata": {},
   "outputs": [],
   "source": [
    "# we talked deciding whether we are prepared for the weather . i said that i'm safe from today's weather if ...\n",
    "#i have an umbrella...\n",
    "#or if the rain isn't too heavy and i have a hood...\n",
    "#otherwise , i'm still fine unless it's raining and it's a workday"
   ]
  },
  {
   "cell_type": "code",
   "execution_count": 3,
   "metadata": {},
   "outputs": [
    {
     "name": "stdout",
     "output_type": "stream",
     "text": [
      "                     WELCOME TO THE BIG BILLIONS DAY SALE AT FLIPKART\n",
      "enter the products \n",
      " 1. electronics\n",
      " 2. baby_products\n",
      " 3. clothes\n",
      " 4. groceries\n",
      " = clothes\n",
      "for male or female = male\n",
      "you will get 15% off \n",
      "\n",
      "\n",
      " THANK YOU FOR SHOPPING FROM HERE, VISIT AGAIN\n",
      "\n",
      "\n",
      "\n",
      "\n",
      " \n"
     ]
    }
   ],
   "source": [
    "print(\"                     WELCOME TO THE BIG BILLIONS DAY SALE AT FLIPKART\")\n",
    "products =input(\"enter the products \\n 1. electronics\\n 2. baby_products\\n 3. clothes\\n 4. groceries\\n = \")\n",
    "if products==\"electronics\":\n",
    "    electronics=input(\"enter the electronics product \\n 1.laptop\\n 2. phone\\n 3. tv\\n 4.headphones\\n =  \")\n",
    "    if electronics==\"laptop\":\n",
    "        print(\"you will get 30% off\")\n",
    "    elif electronics==\"phones\":\n",
    "        print(\"you will get 10% off\")\n",
    "    elif electronics==\"tv\":\n",
    "        print(\" you will get 20% off\")\n",
    "    else:\n",
    "        print(\" you will get 5% off\")\n",
    "elif products==\"baby_products\":\n",
    "    baby_products=input(\"entervthe baby_products you want \\n 1. amplifier\\n 2.baby_pants\\n = \")\n",
    "    if baby_products==\"amplifier\":\n",
    "        print(\"you will get 20% off\")\n",
    "    else:\n",
    "        print(\"you will get 15% off\")\n",
    "elif products==\"clothes\":\n",
    "    clothes=input(\"for male or female = \")\n",
    "    if clothes==\"male\":\n",
    "        print(\"you will get 15% off \")\n",
    "    else:\n",
    "        print(\"you will get 20 % off\")\n",
    "else:\n",
    "    groceries=input(\"what you want \\n 1. potato\\n 2. onion\\n 3. tomato\\n 4. garlic \\n = \")\n",
    "    if groceries==\"potato\":\n",
    "        print(\"you will get 5% off \")\n",
    "    elif groceries==\"onion\":\n",
    "        print(\"you will get 3% off\")\n",
    "    elif groceries==\"tomato\":\n",
    "        print(\"you will get 2% off\") \n",
    "    else:\n",
    "        \n",
    "        print(\"if free if you but any vegetable\")\n",
    "print(\"\\n\\n THANK YOU FOR SHOPPING FROM HERE, VISIT AGAIN\\n\\n\\n\\n\\n \")\n"
   ]
  },
  {
   "cell_type": "code",
   "execution_count": 6,
   "metadata": {},
   "outputs": [
    {
     "name": "stdout",
     "output_type": "stream",
     "text": [
      "yes or no \n",
      " = no\n",
      "yes or no \n",
      " = yes\n",
      "yes or no \n",
      " = no\n",
      "yes or no \n",
      " = yes\n",
      "safe\n"
     ]
    }
   ],
   "source": [
    "have_umb=input(\"yes or no \\n = \")\n",
    "have_hood=input(\"yes or no \\n = \")\n",
    "rain_type=input(\"yes or no \\n = \")\n",
    "wd=input(\"yes or no \\n = \")\n",
    "if wd==\"yes\":\n",
    "    if rain_type==\"yes\":\n",
    "        if have_umb==\"yes\":\n",
    "            print(\"safe\")\n",
    "        else:\n",
    "            print(\"not safe\")\n",
    "    else:\n",
    "        if have_hood==\"yes\":\n",
    "            print(\"safe\")\n",
    "        else:\n",
    "            print(\"not safe\")\n",
    "else:\n",
    "    print(\"no work today \\nenjoy\")"
   ]
  },
  {
   "cell_type": "code",
   "execution_count": null,
   "metadata": {},
   "outputs": [],
   "source": []
  }
 ],
 "metadata": {
  "kernelspec": {
   "display_name": "Python 3",
   "language": "python",
   "name": "python3"
  },
  "language_info": {
   "codemirror_mode": {
    "name": "ipython",
    "version": 3
   },
   "file_extension": ".py",
   "mimetype": "text/x-python",
   "name": "python",
   "nbconvert_exporter": "python",
   "pygments_lexer": "ipython3",
   "version": "3.8.5"
  }
 },
 "nbformat": 4,
 "nbformat_minor": 4
}
