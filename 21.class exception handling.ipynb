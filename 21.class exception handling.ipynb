{
 "cells": [
  {
   "cell_type": "code",
   "execution_count": 1,
   "metadata": {},
   "outputs": [],
   "source": [
    "#exception handling has 4 blocks :\n",
    "1) try\n",
    "2)except\n",
    "3)else\n",
    "4)finally\n"
   ]
  },
  {
   "cell_type": "code",
   "execution_count": 2,
   "metadata": {},
   "outputs": [
    {
     "name": "stdout",
     "output_type": "stream",
     "text": [
      " i will executed if the try is wrong\n",
      "35\n",
      "i will be executed if any given conditions\n",
      "the dog \n",
      " and the cat \n",
      " are friends\n"
     ]
    }
   ],
   "source": [
    "#and this is order\n",
    "try: # if we have the doubt the program is wrong or any error\n",
    "    with open(\"rk.txt\",\"r\") as f:\n",
    "        print(f.write(\"addsdfsdsdfsdfsfdd\\n\"))\n",
    "except: #it will only execute when try is wrong\n",
    "    print(\" i will executed if the try is wrong\")\n",
    "    with open(\"rk.txt\",\"w\") as f:\n",
    "        print(f.write(\"the dog \\n and the cat \\n are friends\")) #it always print the length if we write the file handlingg\n",
    "else: #try will execute the else also execute\n",
    "    print(\"i will be executed if the try is right \")\n",
    "finally: #always execute\n",
    "    print(\"i will be executed if any given conditions\")\n",
    "    with open(\"rk.txt\",\"r\") as f:\n",
    "        print(f.read())"
   ]
  },
  {
   "cell_type": "code",
   "execution_count": 4,
   "metadata": {},
   "outputs": [
    {
     "name": "stdout",
     "output_type": "stream",
     "text": [
      "enter the no in try block = 0\n",
      "enter the no in except block = 4\n",
      "1.25\n",
      "done\n"
     ]
    }
   ],
   "source": [
    "try:\n",
    "    a=int(input(\"enter the no in try block = \"))\n",
    "    c=5/a\n",
    "except:\n",
    "    a=int(input(\"enter the no in except block = \"))\n",
    "    c=5/a\n",
    "    print(c)\n",
    "else:\n",
    "    print(c,\"try c value\")\n",
    "finally:\n",
    "    print(\"done\")"
   ]
  },
  {
   "cell_type": "code",
   "execution_count": 8,
   "metadata": {},
   "outputs": [
    {
     "name": "stdout",
     "output_type": "stream",
     "text": [
      "enter the no in try block = 0\n",
      "enter the no in except block = 0\n",
      "enter the no in try block = 1\n",
      "5.0 value of finally block\n",
      "5.0\n"
     ]
    }
   ],
   "source": [
    "try:\n",
    "    a=int(input(\"enter the no in try block = \"))\n",
    "    c=5/a\n",
    "except:\n",
    "    try:\n",
    "        a=int(input(\"enter the no in except block = \"))\n",
    "        c=5/a\n",
    "        print(c)\n",
    "    except:\n",
    "        pass\n",
    "else:\n",
    "    print(c,\"try c value\")\n",
    "finally:\n",
    "    try:\n",
    "        a=int(input(\"enter the no in try block = \"))\n",
    "        c=5/a\n",
    "        print(c,\"value of finally block\")\n",
    "    except:\n",
    "        pass\n",
    "    else:\n",
    "        print(c)"
   ]
  },
  {
   "cell_type": "code",
   "execution_count": 12,
   "metadata": {},
   "outputs": [
    {
     "name": "stdout",
     "output_type": "stream",
     "text": [
      "division by zero\n"
     ]
    }
   ],
   "source": [
    "#print the error in program\n",
    "try:\n",
    "    6/0\n",
    "except Exception as e:\n",
    "    print(e)"
   ]
  },
  {
   "cell_type": "code",
   "execution_count": 14,
   "metadata": {},
   "outputs": [
    {
     "name": "stdout",
     "output_type": "stream",
     "text": [
      "3.0 handle zero division error\n"
     ]
    }
   ],
   "source": [
    "#multiple error \n",
    "try:\n",
    "    6/0\n",
    "except IOError:\n",
    "    print(\"i will handle only input output error\")\n",
    "except ZeroDivisionError:\n",
    "    c=6/2\n",
    "    print(c,\"handle zero division error\")"
   ]
  },
  {
   "cell_type": "code",
   "execution_count": 16,
   "metadata": {},
   "outputs": [
    {
     "name": "stdout",
     "output_type": "stream",
     "text": [
      "i will handle only input output error\n"
     ]
    }
   ],
   "source": [
    "try:\n",
    "    with open(\"rk.txt\")as f:\n",
    "        print(f.write(\"hello\"))\n",
    "except IOError:\n",
    "    print(\"i will handle only input output error\")\n",
    "except ZeroDivisionError:\n",
    "    print(c,\"handle zero division error\")"
   ]
  },
  {
   "cell_type": "code",
   "execution_count": null,
   "metadata": {},
   "outputs": [
    {
     "name": "stdout",
     "output_type": "stream",
     "text": [
      "entering except block\n",
      "enter the 1st digit0\n"
     ]
    }
   ],
   "source": [
    "while True:\n",
    "    try:\n",
    "        s1=int(input(\"enter the 1st digit\"))\n",
    "        s2=int(input(\"enter the 1st digit\"))\n",
    "        s3=s1/s2\n",
    "        print(s3)\n",
    "    except:\n",
    "        print(\"entering except block\")\n",
    "        try:\n",
    "            s1=int(input(\"enter the 1st digit\"))\n",
    "            s2=int(input(\"enter the 1st digit\"))\n",
    "            s3=s1/s2\n",
    "            print(s3)\n",
    "        except:\n",
    "            print(\"still the wrong input\")\n",
    "        else:\n",
    "            print(s3)\n",
    "    else:\n",
    "        print(f\"the final result is: {s3}\")\n",
    "        break\n",
    "    finally:\n",
    "        print(f\"code executed completely\")\n",
    "    "
   ]
  },
  {
   "cell_type": "code",
   "execution_count": null,
   "metadata": {},
   "outputs": [],
   "source": []
  }
 ],
 "metadata": {
  "kernelspec": {
   "display_name": "Python 3",
   "language": "python",
   "name": "python3"
  },
  "language_info": {
   "codemirror_mode": {
    "name": "ipython",
    "version": 3
   },
   "file_extension": ".py",
   "mimetype": "text/x-python",
   "name": "python",
   "nbconvert_exporter": "python",
   "pygments_lexer": "ipython3",
   "version": "3.8.5"
  }
 },
 "nbformat": 4,
 "nbformat_minor": 4
}
