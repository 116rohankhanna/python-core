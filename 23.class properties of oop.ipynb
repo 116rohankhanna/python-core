{
 "cells": [
  {
   "cell_type": "markdown",
   "metadata": {},
   "source": [
    "#properties of oop :-\n",
    "1)inheritence\n",
    "2)polymorphism\n",
    "3)data abstraction\n",
    "4)encapsulation"
   ]
  },
  {
   "cell_type": "code",
   "execution_count": 1,
   "metadata": {},
   "outputs": [
    {
     "name": "stdout",
     "output_type": "stream",
     "text": [
      "the population of india is 1.3\n",
      "the population of pak is 0.7\n"
     ]
    }
   ],
   "source": [
    "#polymorphism :- means many forms\n",
    "#same method but in diffferent - different class\n",
    "class india:\n",
    "    def pop(self):\n",
    "        print(f\"the population of india is {1.3}\")\n",
    "class pak:\n",
    "     def pop(self):\n",
    "        print(f\"the population of pak is {0.7}\")\n",
    "i=india()\n",
    "p=pak()\n",
    "for country in  i,p:\n",
    "    country.pop()"
   ]
  },
  {
   "cell_type": "code",
   "execution_count": 2,
   "metadata": {},
   "outputs": [
    {
     "data": {
      "text/plain": [
       "1"
      ]
     },
     "execution_count": 2,
     "metadata": {},
     "output_type": "execute_result"
    }
   ],
   "source": [
    "#encapsulation :- have 3 things public,private ,protected.\n",
    "class laptop:\n",
    "    def __init__(self,photos,playlist,games):\n",
    "        self.__photos = photos #privates attribute always representes with dounble under score \n",
    "        self._playlist=playlist #protected attribute (single under score)\n",
    "        self.games=games\n",
    "l =laptop(1,\"song\",\"gta\")\n",
    "l._laptop__photos #for private file handle"
   ]
  },
  {
   "cell_type": "code",
   "execution_count": 3,
   "metadata": {},
   "outputs": [],
   "source": [
    "#data abstraction :-\n",
    "from abc import ABC ,abstractmethod  #abc is abstractmodule"
   ]
  },
  {
   "cell_type": "code",
   "execution_count": 4,
   "metadata": {},
   "outputs": [
    {
     "ename": "TypeError",
     "evalue": "__init__() missing 2 required positional arguments: 'a' and 'b'",
     "output_type": "error",
     "traceback": [
      "\u001b[1;31m---------------------------------------------------------------------------\u001b[0m",
      "\u001b[1;31mTypeError\u001b[0m                                 Traceback (most recent call last)",
      "\u001b[1;32m<ipython-input-4-a252d73d0a68>\u001b[0m in \u001b[0;36m<module>\u001b[1;34m\u001b[0m\n\u001b[0;32m      7\u001b[0m         \u001b[0mc\u001b[0m\u001b[1;33m=\u001b[0m\u001b[0mself\u001b[0m\u001b[1;33m.\u001b[0m\u001b[0ma\u001b[0m\u001b[1;33m+\u001b[0m\u001b[0mself\u001b[0m\u001b[1;33m.\u001b[0m\u001b[0mb\u001b[0m\u001b[1;33m\u001b[0m\u001b[1;33m\u001b[0m\u001b[0m\n\u001b[0;32m      8\u001b[0m         \u001b[0mprint\u001b[0m\u001b[1;33m(\u001b[0m\u001b[0mc\u001b[0m\u001b[1;33m)\u001b[0m\u001b[1;33m\u001b[0m\u001b[1;33m\u001b[0m\u001b[0m\n\u001b[1;32m----> 9\u001b[1;33m \u001b[0mc\u001b[0m\u001b[1;33m=\u001b[0m\u001b[0mcalc\u001b[0m\u001b[1;33m(\u001b[0m\u001b[1;33m)\u001b[0m\u001b[1;33m\u001b[0m\u001b[1;33m\u001b[0m\u001b[0m\n\u001b[0m\u001b[0;32m     10\u001b[0m \u001b[0mc\u001b[0m\u001b[1;33m.\u001b[0m\u001b[0madd\u001b[0m\u001b[1;33m(\u001b[0m\u001b[1;33m)\u001b[0m\u001b[1;33m\u001b[0m\u001b[1;33m\u001b[0m\u001b[0m\n",
      "\u001b[1;31mTypeError\u001b[0m: __init__() missing 2 required positional arguments: 'a' and 'b'"
     ]
    }
   ],
   "source": [
    "class calc(ABC):\n",
    "    def __init__(self,a,b):\n",
    "        self.a=10\n",
    "        self.b=20\n",
    "    #abstractmethod\n",
    "    def add(self):\n",
    "        c=self.a+self.b\n",
    "        print(c)\n",
    "c=calc()\n",
    "c.add()"
   ]
  },
  {
   "cell_type": "code",
   "execution_count": 5,
   "metadata": {},
   "outputs": [
    {
     "name": "stdout",
     "output_type": "stream",
     "text": [
      "this method is hidden cannot open or use this  100\n",
      "the a is of black and the maxspeed of 310 \n",
      "310\n",
      "a\n",
      "black\n",
      "this is the price of sedan  1000000\n"
     ]
    }
   ],
   "source": [
    "#super() :-function help in inheritance\n",
    "from abc import ABC , abstractmethod\n",
    "\n",
    "class car(ABC):\n",
    "    def __init__(self):\n",
    "        self.name=\"a\"\n",
    "        self.color=\"black\"\n",
    "        self.maxspeed=310\n",
    "    def show(self):\n",
    "        print(f\"the {self.name} is of {self.color} and the maxspeed of {self.maxspeed} \")\n",
    "        \n",
    "    @abstractmethod\n",
    "    def price(self,x):\n",
    "        print(\"this method is hidden cannot open or use this \",x)\n",
    "#c1=car(\"honda\",\"black\",340)\n",
    "#c1.show()\n",
    "class sedan(car):\n",
    "    def __init__(self):\n",
    "        super().__init__()\n",
    "        super().price(100)\n",
    "    def price (self):\n",
    "        print(\"this is the price of sedan \",1000000)\n",
    "obj1=sedan()\n",
    "obj1.show()\n",
    "print(obj1.maxspeed)\n",
    "print(obj1.name)\n",
    "print(obj1.color)\n",
    "obj1.price()"
   ]
  },
  {
   "cell_type": "markdown",
   "metadata": {},
   "source": [
    "# inheritance"
   ]
  },
  {
   "cell_type": "code",
   "execution_count": 6,
   "metadata": {},
   "outputs": [
    {
     "name": "stdout",
     "output_type": "stream",
     "text": [
      "sunny singh is a nice person \n",
      "the student id 110023 having sunny singh has scored 100 marks\n"
     ]
    }
   ],
   "source": [
    "class person:\n",
    "    def __init__(self,fname,lname):\n",
    "        self.fname=fname\n",
    "        self,lname=lname\n",
    "    def details(self):\n",
    "        print(f\"{self.fname} {self.lname} is a nice person \")\n",
    "class student(person):\n",
    "    def __init__(self,fname,lname,stid):\n",
    "        self.fname=fname\n",
    "        self.lname=lname\n",
    "        self.stid=stid\n",
    "    def print_name(self):\n",
    "        print(f\"the student id {self.stid} having {self.fname} {self.lname} has scored 100 marks\")\n",
    "s=student(\"sunny\",\"singh\",110023)\n",
    "s.details()\n",
    "s.print_name()"
   ]
  },
  {
   "cell_type": "markdown",
   "metadata": {},
   "source": [
    "# super function"
   ]
  },
  {
   "cell_type": "code",
   "execution_count": 7,
   "metadata": {},
   "outputs": [
    {
     "name": "stdout",
     "output_type": "stream",
     "text": [
      "ankit singh is a nice person \n",
      "the student id 110023 having ankit singh has scored 100 marks\n"
     ]
    }
   ],
   "source": [
    "class person:\n",
    "    def __init__(self):\n",
    "        self.fname=\"ankit\"\n",
    "        self.lname=\"singh\"\n",
    "    def details(self):\n",
    "        print(f\"{self.fname} {self.lname} is a nice person \")\n",
    "class student(person):\n",
    "    def __init__(self,stid):\n",
    "        super().__init__()\n",
    "        self.stid=stid\n",
    "    def print_name(self):\n",
    "        print(f\"the student id {self.stid} having {self.fname} {self.lname} has scored 100 marks\")\n",
    "s=student(110023)\n",
    "s.details()\n",
    "s.print_name()"
   ]
  },
  {
   "cell_type": "markdown",
   "metadata": {},
   "source": [
    "wac transport and def a constructor for the same for diffferent transport type then define another class tax and tax the vehicle according to different transport type.\n",
    "if the transport is \n",
    "car_tax=2000\n",
    "bus tax=1000\n",
    "two wheeler=500\n",
    "govt_transport=free"
   ]
  },
  {
   "cell_type": "code",
   "execution_count": 8,
   "metadata": {},
   "outputs": [
    {
     "ename": "AttributeError",
     "evalue": "'tax' object has no attribute 'car'",
     "output_type": "error",
     "traceback": [
      "\u001b[1;31m---------------------------------------------------------------------------\u001b[0m",
      "\u001b[1;31mAttributeError\u001b[0m                            Traceback (most recent call last)",
      "\u001b[1;32m<ipython-input-8-5898d5f8dcad>\u001b[0m in \u001b[0;36m<module>\u001b[1;34m\u001b[0m\n\u001b[0;32m     11\u001b[0m         \u001b[0mprint\u001b[0m\u001b[1;33m(\u001b[0m\u001b[1;34mf\" {self.type} the tax amount is {self.car} {self.bus} {self.two_wheeler} {self.govt_transport}\"\u001b[0m\u001b[1;33m)\u001b[0m\u001b[1;33m\u001b[0m\u001b[1;33m\u001b[0m\u001b[0m\n\u001b[0;32m     12\u001b[0m \u001b[0mt\u001b[0m\u001b[1;33m=\u001b[0m\u001b[0mtax\u001b[0m\u001b[1;33m(\u001b[0m\u001b[1;36m2\u001b[0m\u001b[1;33m)\u001b[0m\u001b[1;33m\u001b[0m\u001b[1;33m\u001b[0m\u001b[0m\n\u001b[1;32m---> 13\u001b[1;33m \u001b[0mt\u001b[0m\u001b[1;33m.\u001b[0m\u001b[0mprint_name\u001b[0m\u001b[1;33m(\u001b[0m\u001b[1;33m)\u001b[0m\u001b[1;33m\u001b[0m\u001b[1;33m\u001b[0m\u001b[0m\n\u001b[0m",
      "\u001b[1;32m<ipython-input-8-5898d5f8dcad>\u001b[0m in \u001b[0;36mprint_name\u001b[1;34m(self)\u001b[0m\n\u001b[0;32m      9\u001b[0m         \u001b[0mself\u001b[0m\u001b[1;33m.\u001b[0m\u001b[0mtype\u001b[0m\u001b[1;33m=\u001b[0m\u001b[0mtype\u001b[0m\u001b[1;33m\u001b[0m\u001b[1;33m\u001b[0m\u001b[0m\n\u001b[0;32m     10\u001b[0m     \u001b[1;32mdef\u001b[0m \u001b[0mprint_name\u001b[0m\u001b[1;33m(\u001b[0m\u001b[0mself\u001b[0m\u001b[1;33m)\u001b[0m\u001b[1;33m:\u001b[0m\u001b[1;33m\u001b[0m\u001b[1;33m\u001b[0m\u001b[0m\n\u001b[1;32m---> 11\u001b[1;33m         \u001b[0mprint\u001b[0m\u001b[1;33m(\u001b[0m\u001b[1;34mf\" {self.type} the tax amount is {self.car} {self.bus} {self.two_wheeler} {self.govt_transport}\"\u001b[0m\u001b[1;33m)\u001b[0m\u001b[1;33m\u001b[0m\u001b[1;33m\u001b[0m\u001b[0m\n\u001b[0m\u001b[0;32m     12\u001b[0m \u001b[0mt\u001b[0m\u001b[1;33m=\u001b[0m\u001b[0mtax\u001b[0m\u001b[1;33m(\u001b[0m\u001b[1;36m2\u001b[0m\u001b[1;33m)\u001b[0m\u001b[1;33m\u001b[0m\u001b[1;33m\u001b[0m\u001b[0m\n\u001b[0;32m     13\u001b[0m \u001b[0mt\u001b[0m\u001b[1;33m.\u001b[0m\u001b[0mprint_name\u001b[0m\u001b[1;33m(\u001b[0m\u001b[1;33m)\u001b[0m\u001b[1;33m\u001b[0m\u001b[1;33m\u001b[0m\u001b[0m\n",
      "\u001b[1;31mAttributeError\u001b[0m: 'tax' object has no attribute 'car'"
     ]
    }
   ],
   "source": [
    "class transport:\n",
    "    def __init__(self):\n",
    "        self.car=2000\n",
    "        self.bus=1000\n",
    "        self.two_wheeler=500\n",
    "        self.govt_transport=\"free\"\n",
    "class tax(transport):\n",
    "    def __init__(self,type):\n",
    "        self.type=type\n",
    "    def print_name(self):\n",
    "        print(f\" {self.type} the tax amount is {self.car} {self.bus} {self.two_wheeler} {self.govt_transport}\")\n",
    "t=tax(2)\n",
    "t.print_name()"
   ]
  },
  {
   "cell_type": "code",
   "execution_count": 11,
   "metadata": {},
   "outputs": [
    {
     "name": "stdout",
     "output_type": "stream",
     "text": [
      "enter the type of transport = car\n",
      "tax is 2000\n"
     ]
    }
   ],
   "source": [
    "class transport:\n",
    "    def __init__(self):\n",
    "        self.ttype=input(\"enter the type of transport = \")\n",
    "class tax(transport):\n",
    "    def __init__(self):\n",
    "        super(). __init__()\n",
    "    def show_tax(self):\n",
    "        if self.ttype==\"car\":\n",
    "            print(\"tax is 2000\")\n",
    "        elif self.ttype==\"bus\":\n",
    "            print(\"tax is 1000\")\n",
    "        elif self.ttype==\"two_wheeler\":\n",
    "            print(\"tax is 500\")\n",
    "        elif self.ttype==\"govt\":\n",
    "            print(\"tax is free\")\n",
    "t=tax()\n",
    "t.show_tax()"
   ]
  },
  {
   "cell_type": "code",
   "execution_count": null,
   "metadata": {},
   "outputs": [],
   "source": []
  }
 ],
 "metadata": {
  "kernelspec": {
   "display_name": "Python 3",
   "language": "python",
   "name": "python3"
  },
  "language_info": {
   "codemirror_mode": {
    "name": "ipython",
    "version": 3
   },
   "file_extension": ".py",
   "mimetype": "text/x-python",
   "name": "python",
   "nbconvert_exporter": "python",
   "pygments_lexer": "ipython3",
   "version": "3.8.5"
  }
 },
 "nbformat": 4,
 "nbformat_minor": 4
}
