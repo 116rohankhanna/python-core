{
 "cells": [
  {
   "cell_type": "markdown",
   "metadata": {},
   "source": [
    "8. Write a program that accepts a comma separated sequence of words as input and prints the words in a\n",
    "comma-separated sequence after sorting them alphabetically. Suppose the input is supplied to the\n",
    "program: without, hello, bag, world Then, the output should be: bag, hello, without, world Hints: In case of\n",
    "input data being supplied to the question, it should be assumed to be a console input.\n"
   ]
  },
  {
   "cell_type": "code",
   "execution_count": 2,
   "metadata": {},
   "outputs": [
    {
     "name": "stdout",
     "output_type": "stream",
     "text": [
      "Enter the string = abhishek,do,your,work\n",
      "['abhishek', 'do', 'work', 'your']\n"
     ]
    }
   ],
   "source": [
    "x=input(\"Enter the string = \")\n",
    "b=x.split(',')\n",
    "s=sorted(b)\n",
    "print(s)\n"
   ]
  },
  {
   "cell_type": "markdown",
   "metadata": {},
   "source": [
    "9. Write a program that accepts sequence of lines as input and prints the lines after making all characters in\n",
    "the sentence capitalized.\n",
    "Suppose the input is supplied to the program: Hello world Practice makes perfect Then, the output should be:\n",
    "HELLO WORLD PRACTICE MAKES PERFECT"
   ]
  },
  {
   "cell_type": "code",
   "execution_count": 3,
   "metadata": {},
   "outputs": [
    {
     "name": "stdout",
     "output_type": "stream",
     "text": [
      "ENTER THE CHARACTER = Hello world Practice makes perfect\n",
      "HELLO WORLD PRACTICE MAKES PERFECT\n"
     ]
    }
   ],
   "source": [
    "a=input('ENTER THE CHARACTER = ')\n",
    "b=a.upper()\n",
    "print(b)"
   ]
  },
  {
   "cell_type": "markdown",
   "metadata": {},
   "source": [
    "10. Write a program that accepts a sequence of whitespace separated words as input and prints the words\n",
    "after removing all duplicate words and sorting them alphanumerically. Suppose the input is supplied to the\n",
    "program: hello world and practice makes perfect and hello world again Then, the output should be: again\n",
    "and hello makes perfect practice world Hints: In case of input data being supplied to the question, it should be assumed to be a console input. We use set container to remove duplicated data automatically and then\n",
    "use sorted() to sort the data."
   ]
  },
  {
   "cell_type": "code",
   "execution_count": 4,
   "metadata": {},
   "outputs": [
    {
     "name": "stdout",
     "output_type": "stream",
     "text": [
      "ENTER THE CHARACTER = hello world and practice makes perfect and hello world again\n",
      "again and hello makes perfect practice world\n"
     ]
    }
   ],
   "source": [
    "a=input('ENTER THE CHARACTER = ')\n",
    "b= [word for word in a.split(\" \")]\n",
    "print (\" \".join(sorted(list(set(b)))))"
   ]
  },
  {
   "cell_type": "code",
   "execution_count": null,
   "metadata": {},
   "outputs": [],
   "source": []
  }
 ],
 "metadata": {
  "kernelspec": {
   "display_name": "Python 3",
   "language": "python",
   "name": "python3"
  },
  "language_info": {
   "codemirror_mode": {
    "name": "ipython",
    "version": 3
   },
   "file_extension": ".py",
   "mimetype": "text/x-python",
   "name": "python",
   "nbconvert_exporter": "python",
   "pygments_lexer": "ipython3",
   "version": "3.8.5"
  }
 },
 "nbformat": 4,
 "nbformat_minor": 4
}
