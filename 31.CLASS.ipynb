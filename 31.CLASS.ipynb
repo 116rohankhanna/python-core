{
 "cells": [
  {
   "cell_type": "markdown",
   "metadata": {},
   "source": [
    "5. Define a class which has at least two methods: getString: to get a string from console input printString: to\n",
    "print the string in upper case. Also please include simple test function to test the class methods. Hints: Use\n",
    "init method to construct some parameters\n"
   ]
  },
  {
   "cell_type": "code",
   "execution_count": 1,
   "metadata": {},
   "outputs": [
    {
     "name": "stdout",
     "output_type": "stream",
     "text": [
      " honesty is best policy\n",
      "HONESTY IS BEST POLICY\n"
     ]
    }
   ],
   "source": [
    "class string:\n",
    "    def __init__(self):\n",
    "        self.a=\" \"\n",
    "        \n",
    "    def get_string(self):\n",
    "        self.a=input(\" \")\n",
    "    \n",
    "    def print_string(self):\n",
    "        print(self.a.upper())\n",
    "\n",
    "str=string()\n",
    "str.get_string()\n",
    "str.print_string()"
   ]
  },
  {
   "cell_type": "markdown",
   "metadata": {},
   "source": [
    "6. Write a program that calculates and prints the value according to the given formula: Q = Square root of [(2 *\n",
    "C * D)/H] Following are the fixed values of C and H: C is 50. H is 30. D is the variable whose values should\n",
    "be input to your program in a comma-separated sequence. Let us assume the following comma separated\n",
    "input sequence is given to the program: 100,150,180 The output of the program should be: 18, 22, 24\n",
    "Hints: If the output received is in decimal form, it should be rounded off to its nearest value (for example, if\n",
    "the output received is 26.0, it should be printed as 26) In case of input data being supplied to the question,\n",
    "it should be assumed to be a console input"
   ]
  },
  {
   "cell_type": "code",
   "execution_count": 2,
   "metadata": {},
   "outputs": [
    {
     "name": "stdout",
     "output_type": "stream",
     "text": [
      "Enter the value d = 100\n",
      "18.257418583505537\n"
     ]
    }
   ],
   "source": [
    "d=float(input('Enter the value d = '))\n",
    "c=50\n",
    "h=30\n",
    "formula=((2*c*d)/h)**(.5)\n",
    "print(formula)\n"
   ]
  },
  {
   "cell_type": "code",
   "execution_count": null,
   "metadata": {},
   "outputs": [],
   "source": []
  }
 ],
 "metadata": {
  "kernelspec": {
   "display_name": "Python 3",
   "language": "python",
   "name": "python3"
  },
  "language_info": {
   "codemirror_mode": {
    "name": "ipython",
    "version": 3
   },
   "file_extension": ".py",
   "mimetype": "text/x-python",
   "name": "python",
   "nbconvert_exporter": "python",
   "pygments_lexer": "ipython3",
   "version": "3.8.5"
  }
 },
 "nbformat": 4,
 "nbformat_minor": 4
}
