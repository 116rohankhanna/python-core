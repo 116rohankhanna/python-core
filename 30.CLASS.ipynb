{
 "cells": [
  {
   "cell_type": "markdown",
   "metadata": {},
   "source": [
    "3. With a given integral number n, write a program to generate a dictionary that contains (i, i*i) such that is an\n",
    "integral number between 1 and n (both included) and then the program should print the dictionary. Suppose\n",
    "the input is supplied to the program: 8 Then, the output should be: {1: 1, 2: 4, 3: 9, 4: 16, 5: 25, 6: 36, 7: 49,\n",
    "8: 64} Hints: In case of input data being supplied to the question, it should be assumed to be a console\n",
    "input. Consider use dict()"
   ]
  },
  {
   "cell_type": "code",
   "execution_count": 1,
   "metadata": {},
   "outputs": [
    {
     "name": "stdout",
     "output_type": "stream",
     "text": [
      "Enter any number =11\n",
      "{1: 1, 2: 4, 3: 9, 4: 16, 5: 25, 6: 36, 7: 49, 8: 64, 9: 81, 10: 100, 11: 121}\n"
     ]
    }
   ],
   "source": [
    "x=int(input('Enter any number ='))\n",
    "d={}\n",
    "for i in range(1,x+1):\n",
    "    d[i]=i*i\n",
    "\n",
    "print(d)"
   ]
  },
  {
   "cell_type": "markdown",
   "metadata": {},
   "source": [
    "4. Write a program which accepts a sequence of comma-separated numbers from console and generate a list\n",
    "and a tuple which contains every number. Suppose the input is supplied to the program: 34, 67, 55, 33, 12,\n",
    "98 Then, the output should be: ['34', '67', '55', '33', '12', '98'] ('34', '67', '55', '33', '12', '98') Hints: In case of\n",
    "input data being supplied to the question, it should be assumed to be a console input. tuple() method can\n",
    "convert list to tuple"
   ]
  },
  {
   "cell_type": "code",
   "execution_count": 3,
   "metadata": {},
   "outputs": [
    {
     "name": "stdout",
     "output_type": "stream",
     "text": [
      "Enter the number :34, 67, 55, 33, 12, 98\n",
      "('34', ' 67', ' 55', ' 33', ' 12', ' 98')\n",
      "['34', ' 67', ' 55', ' 33', ' 12', ' 98']\n"
     ]
    }
   ],
   "source": [
    "a= input(\"Enter the number :\")\n",
    "b= a.split(',')\n",
    "c= tuple(b)\n",
    "print(c)\n",
    "print(b)"
   ]
  },
  {
   "cell_type": "code",
   "execution_count": null,
   "metadata": {},
   "outputs": [],
   "source": []
  }
 ],
 "metadata": {
  "kernelspec": {
   "display_name": "Python 3",
   "language": "python",
   "name": "python3"
  },
  "language_info": {
   "codemirror_mode": {
    "name": "ipython",
    "version": 3
   },
   "file_extension": ".py",
   "mimetype": "text/x-python",
   "name": "python",
   "nbconvert_exporter": "python",
   "pygments_lexer": "ipython3",
   "version": "3.8.5"
  }
 },
 "nbformat": 4,
 "nbformat_minor": 4
}
