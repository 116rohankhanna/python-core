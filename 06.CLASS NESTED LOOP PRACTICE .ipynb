{
 "cells": [
  {
   "cell_type": "markdown",
   "metadata": {},
   "source": [
    "#wap to take input from the user regarding side of a shape if the sideis 2 , compute the area of rectangle , if the side is 1 compute the area of square and if 0 is entered in the side we should check for radius of the circle and then compute the area of the circle "
   ]
  },
  {
   "cell_type": "code",
   "execution_count": 7,
   "metadata": {},
   "outputs": [
    {
     "name": "stdout",
     "output_type": "stream",
     "text": [
      "enter the no of sides = 0\n",
      "enter the radius = 10\n",
      "= 314.0\n"
     ]
    }
   ],
   "source": [
    "side=int(input(\"enter the no of sides = \"))\n",
    "if side==0:\n",
    "    r=int(input(\"enter the radius = \"))\n",
    "    area=3.14*r**2\n",
    "    print(\"=\",area)\n",
    "elif side==1:\n",
    "    s=int(input(\"enter the side = \"))\n",
    "    a=a**2\n",
    "    print(\"=\",a)\n",
    "elif side==2:\n",
    "    l=int(input(\"enter the length = \"))\n",
    "    b=int(input(\"enter the length = \"))\n",
    "    print(\"=\",l*b)\n",
    "else:\n",
    "    print(\"go back\")"
   ]
  },
  {
   "cell_type": "markdown",
   "metadata": {},
   "source": [
    "wap tocheck if enter number is ppositive negative or zero if the number is positive , multiply with that 2 and if the product is greater than 40 print bigger else smaller . similarly if the entered is 0 add any multiple of sevent to it and check the sum is divisible by 3 then print done else print not done.and if the number is neagtive then divided it with negative multiple of 4 if the result is grayer than 20 print got that else print try again."
   ]
  },
  {
   "cell_type": "code",
   "execution_count": 18,
   "metadata": {},
   "outputs": [
    {
     "name": "stdout",
     "output_type": "stream",
     "text": [
      "enter any no = 89\n",
      "178\n",
      "bigger\n"
     ]
    }
   ],
   "source": [
    "a=int(input(\"enter any no = \"))\n",
    "if a>0:\n",
    "    c=a*2\n",
    "    print(c)\n",
    "    if c>40:\n",
    "        print(\"bigger\")\n",
    "    else:\n",
    "        print(\"smaller\")\n",
    "elif a==0:\n",
    "    d=a+15\n",
    "    print(d)\n",
    "    if d%3==0:\n",
    "        print(\"done\")\n",
    "    else:\n",
    "        print(\"not done\")\n",
    "elif a<0:\n",
    "    r=a/(-8)\n",
    "    print(r)\n",
    "    if r>20:\n",
    "        print(\"got that\")\n",
    "    else:\n",
    "        print(\"try again\")"
   ]
  },
  {
   "cell_type": "markdown",
   "metadata": {},
   "source": [
    "wap to take the input fromthe user reagarding his/her clothes choice the choice is our : indian,western \n",
    "    if the he chooses indian,\n",
    "    give him choice of sherwani ,kurta \n",
    "    print the price of sherwani and kurta for men\n",
    "    similarly for females we have sares and suit \n",
    "    then print the price \n",
    "    westerns : jeans ,trouser- for men and their prices.\n",
    "        females :jeans skirt frock trousers - print the prices ."
   ]
  },
  {
   "cell_type": "code",
   "execution_count": 42,
   "metadata": {},
   "outputs": [
    {
     "name": "stdout",
     "output_type": "stream",
     "text": [
      "          welcome to the showroom \n",
      "enter the type of clothes looking up to \n",
      " 1) indian\n",
      " 2) western \n",
      " =westeren\n",
      "enter the clothes you looking for\n",
      " 1) male\n",
      " 2) female\n",
      " = female\n",
      "enter the clothes you looking up to \n",
      " 1) jean\n",
      " 2)trousers \n",
      " = trousers\n",
      "THE PRICE OF trousers 790 rs only :\n"
     ]
    }
   ],
   "source": [
    "print(\"          welcome to the showroom \")\n",
    "a=input(\"enter the type of clothes looking up to \\n 1) indian\\n 2) western \\n =\")\n",
    "b=input(\"enter the clothes you looking for\\n 1) male\\n 2) female\\n = \" )\n",
    "if a==\"indian\":\n",
    "    if b==\"male\":\n",
    "        male =input(\"enter the clothes you looking up to \\n 1) sherwani\\n 2) kurta \\n = \")\n",
    "        if male==\"sherwani\":\n",
    "            print(\"THE PRICE OF SHERWANI IS 4844 RS ONLY :\")\n",
    "        elif male==\"kurta\":\n",
    "            print(\"THE PRICE OF KURTA IS 5090 RS ONLY :\")\n",
    "    elif b==\"female\":\n",
    "        female=input(\"enter the clothes you looking up to \\n 1) sarees\\n 2) suits \\n = \")\n",
    "        if female ==\"sarees\":\n",
    "            print(\"THE PRICE OF SAREEES IS 5700 RS ONLY \")\n",
    "        elif female==\"suits\":\n",
    "            print(\"THE PRICE OF SUITS IS 3500 RS ONLY \")\n",
    "elif a==\"western\":\n",
    "     if b==\"male\":\n",
    "        male =input(\"enter the clothes you looking up to \\n 1) jean\\n 2)trousers \\n = \")\n",
    "        if male==\"jean\":\n",
    "            print(\"THE PRICE OF jean 1200 rs only :\")\n",
    "        elif male==\"tousers\":\n",
    "            print(\"THE PRICE OF trousers 700 rs only :\")\n",
    "elif b==\"female\":\n",
    "    female =input(\"enter the clothes you looking up to \\n 1) jean\\n 2)trousers \\n = \")\n",
    "    if female==\"jean\":\n",
    "        print(\"THE PRICE OF jean 2100 rs only :\")\n",
    "    elif female==\"trousers\":\n",
    "        print(\"THE PRICE OF trousers 790 rs only :\")\n",
    "\n",
    "\n",
    "    \n",
    "    \n",
    "\n"
   ]
  },
  {
   "cell_type": "code",
   "execution_count": null,
   "metadata": {},
   "outputs": [],
   "source": []
  }
 ],
 "metadata": {
  "kernelspec": {
   "display_name": "Python 3",
   "language": "python",
   "name": "python3"
  },
  "language_info": {
   "codemirror_mode": {
    "name": "ipython",
    "version": 3
   },
   "file_extension": ".py",
   "mimetype": "text/x-python",
   "name": "python",
   "nbconvert_exporter": "python",
   "pygments_lexer": "ipython3",
   "version": "3.8.5"
  }
 },
 "nbformat": 4,
 "nbformat_minor": 4
}
