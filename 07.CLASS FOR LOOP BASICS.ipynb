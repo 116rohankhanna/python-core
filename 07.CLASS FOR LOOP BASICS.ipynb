{
 "cells": [
  {
   "cell_type": "markdown",
   "metadata": {},
   "source": [
    "wap to take the input from the user regarding the course if the course is data science - ask him which tool he wants to learn\n",
    "first are python ,sql,ml,stats,and tableau\n",
    "if he choose python ask himthe lvl he is at currently which is basic intermediate and andvance \n",
    "if he is intermediate lvl ask him to do practice on hacker earth ,\n",
    "ih he is in at advanced lvl he should apply for jobs for python developers \n",
    "now if he is choosing tableau , he should go for the bussiness intelligence roles\n",
    "and if he is starting with machine learning , he should apply for ml engineer"
   ]
  },
  {
   "cell_type": "code",
   "execution_count": 3,
   "metadata": {},
   "outputs": [
    {
     "name": "stdout",
     "output_type": "stream",
     "text": [
      "enter the course you looking uo to \n",
      " 1) data science \n",
      " 2) any other course \n",
      " = data_science\n",
      "which tool you want to learn first \n",
      "1) python \n",
      "2)sql \n",
      "3)ml \n",
      "4) stats \n",
      "5) tableau \n",
      " = python\n",
      "in which lvl you currently are \n",
      "1)basic \n",
      "2) intermidate \n",
      "3) advanced \n",
      " = advanced\n",
      "appply for a job\n"
     ]
    }
   ],
   "source": [
    "a=input(\"enter the course you looking uo to \\n 1) data science \\n 2) any other course \\n = \")\n",
    "if a==\"data_science\":\n",
    "    data_science=input(\"which tool you want to learn first \\n1) python \\n2)sql \\n3)ml \\n4) stats \\n5) tableau \\n = \")\n",
    "    if data_science==\"python\":\n",
    "        python=input(\"in which lvl you currently are \\n1)basic \\n2) intermidate \\n3) advanced \\n = \")\n",
    "        if python==\"basic\":\n",
    "            print(\"you need practice\")\n",
    "        elif python==\"intermidate\":\n",
    "            print(\"practise on hacker earth\")\n",
    "        elif python==\"advanced\":\n",
    "            print(\"appply for a job\")\n",
    "    elif data_science==\"tableau\":\n",
    "        print(\"go for a bussiness intelligence role \")\n",
    "    elif data_science==\"ml\":\n",
    "        print(\"go for a ml engineer\")\n",
    "else:\n",
    "    print(\"sh\")"
   ]
  },
  {
   "cell_type": "markdown",
   "metadata": {},
   "source": [
    "#loops:\n",
    "what is loop ?"
   ]
  },
  {
   "cell_type": "code",
   "execution_count": 4,
   "metadata": {},
   "outputs": [
    {
     "name": "stdout",
     "output_type": "stream",
     "text": [
      "1\n",
      "2\n",
      "3\n",
      "4\n",
      "5\n"
     ]
    }
   ],
   "source": [
    "print(1)\n",
    "print(2)\n",
    "print(3)\n",
    "print(4)\n",
    "print(5)"
   ]
  },
  {
   "cell_type": "markdown",
   "metadata": {},
   "source": [
    "range(start,stop,step)"
   ]
  },
  {
   "cell_type": "code",
   "execution_count": 7,
   "metadata": {},
   "outputs": [
    {
     "data": {
      "text/plain": [
       "[1, 2, 3, 4, 5]"
      ]
     },
     "execution_count": 7,
     "metadata": {},
     "output_type": "execute_result"
    }
   ],
   "source": [
    "list(range(1,6,1)) #using list means each element is print"
   ]
  },
  {
   "cell_type": "code",
   "execution_count": 8,
   "metadata": {},
   "outputs": [
    {
     "data": {
      "text/plain": [
       "range(1, 6)"
      ]
     },
     "execution_count": 8,
     "metadata": {},
     "output_type": "execute_result"
    }
   ],
   "source": [
    "range(1,6,1)"
   ]
  },
  {
   "cell_type": "markdown",
   "metadata": {},
   "source": [
    "loop is 2 types\n",
    "1) for\n",
    "2) while"
   ]
  },
  {
   "cell_type": "code",
   "execution_count": 10,
   "metadata": {},
   "outputs": [
    {
     "name": "stdout",
     "output_type": "stream",
     "text": [
      "1\n",
      "2\n",
      "3\n",
      "4\n",
      "5\n"
     ]
    }
   ],
   "source": [
    "for i in range(1,6): #not using 1 in steps because it by defaulf if i have go 1 to directly 3 then it is mandatory to use 2 in steps\n",
    "    print(i)"
   ]
  },
  {
   "cell_type": "code",
   "execution_count": 11,
   "metadata": {},
   "outputs": [
    {
     "name": "stdout",
     "output_type": "stream",
     "text": [
      "1\n",
      "2\n",
      "3\n",
      "4\n",
      "5\n",
      "6\n",
      "7\n",
      "8\n",
      "9\n",
      "10\n"
     ]
    }
   ],
   "source": [
    "for i in range(1,11):\n",
    "    print(i)"
   ]
  },
  {
   "cell_type": "code",
   "execution_count": 16,
   "metadata": {},
   "outputs": [
    {
     "name": "stdout",
     "output_type": "stream",
     "text": [
      "10\n",
      "9\n",
      "8\n",
      "7\n",
      "6\n",
      "5\n",
      "4\n",
      "3\n",
      "2\n",
      "1\n"
     ]
    }
   ],
   "source": [
    "for i in range(10,0,-1): # in stop the condition is (n-1) thats why i take value 0 and its show in output 1\n",
    "    print(i)"
   ]
  },
  {
   "cell_type": "code",
   "execution_count": 18,
   "metadata": {},
   "outputs": [
    {
     "name": "stdout",
     "output_type": "stream",
     "text": [
      "5\n",
      "10\n",
      "15\n",
      "20\n",
      "25\n",
      "30\n",
      "35\n",
      "40\n",
      "45\n",
      "50\n"
     ]
    }
   ],
   "source": [
    "for i in range(5,55,5):\n",
    "    print(i)\n"
   ]
  },
  {
   "cell_type": "code",
   "execution_count": 1,
   "metadata": {},
   "outputs": [
    {
     "name": "stdout",
     "output_type": "stream",
     "text": [
      "enter any no = 12\n",
      "120\n",
      "108\n",
      "96\n",
      "84\n",
      "72\n",
      "60\n",
      "48\n",
      "36\n",
      "24\n",
      "12\n"
     ]
    }
   ],
   "source": [
    "a=int(input(\"enter any no = \"))\n",
    "for i in range(a*10,1,-a):\n",
    "    print(i)\n"
   ]
  },
  {
   "cell_type": "code",
   "execution_count": 27,
   "metadata": {},
   "outputs": [
    {
     "name": "stdout",
     "output_type": "stream",
     "text": [
      "enter any no = 7\n",
      "70\n",
      "63\n",
      "56\n",
      "49\n",
      "42\n",
      "35\n",
      "28\n",
      "21\n",
      "14\n",
      "7\n"
     ]
    }
   ],
   "source": [
    "a=int(input(\"enter any no = \"))\n",
    "for i in range(10,0,-1):\n",
    "    print(i*a)"
   ]
  },
  {
   "cell_type": "code",
   "execution_count": 36,
   "metadata": {},
   "outputs": [
    {
     "name": "stdout",
     "output_type": "stream",
     "text": [
      "its odd =  1\n",
      "its even =  2\n",
      "its odd =  3\n",
      "its even =  4\n",
      "its odd =  5\n",
      "its even =  6\n",
      "its odd =  7\n",
      "its even =  8\n",
      "its odd =  9\n",
      "its even =  10\n",
      "its odd =  11\n",
      "its even =  12\n",
      "its odd =  13\n",
      "its even =  14\n",
      "its odd =  15\n",
      "its even =  16\n",
      "its odd =  17\n",
      "its even =  18\n",
      "its odd =  19\n",
      "its even =  20\n"
     ]
    }
   ],
   "source": [
    "for i in range (1,21):\n",
    "    if i%2==0:\n",
    "        print(\"its even = \",i)\n",
    "    else:\n",
    "        print(\"its odd = \",i)"
   ]
  },
  {
   "cell_type": "code",
   "execution_count": null,
   "metadata": {},
   "outputs": [],
   "source": [
    "wap to count no of factors of a no entered by the user and also count the no of factors.\n",
    "for ex 10=1,2,5,10\n",
    "15=1,3,5,15"
   ]
  },
  {
   "cell_type": "code",
   "execution_count": 1,
   "metadata": {},
   "outputs": [
    {
     "name": "stdout",
     "output_type": "stream",
     "text": [
      "enter any no = 45\n",
      "1\n",
      "3\n",
      "5\n",
      "9\n",
      "15\n",
      "45\n",
      "the count is =  6\n"
     ]
    }
   ],
   "source": [
    "a=int(input(\"enter any no = \"))\n",
    "c=0\n",
    "for i in range(1,a+1):\n",
    "     if a%i==0:\n",
    "        print(i)\n",
    "        c=c+1\n",
    "print(\"the count is = \",c)\n",
    "       "
   ]
  },
  {
   "cell_type": "code",
   "execution_count": 3,
   "metadata": {},
   "outputs": [
    {
     "name": "stdout",
     "output_type": "stream",
     "text": [
      "enter the year2001\n",
      "not a leap year \n"
     ]
    }
   ],
   "source": [
    "a=int(input(\"enter the year\"))\n",
    "if a%4==0 or a%400==0:\n",
    "    print(\"its a leap year\")\n",
    "else:\n",
    "    print(\"not a leap year \")"
   ]
  }
 ],
 "metadata": {
  "kernelspec": {
   "display_name": "Python 3",
   "language": "python",
   "name": "python3"
  },
  "language_info": {
   "codemirror_mode": {
    "name": "ipython",
    "version": 3
   },
   "file_extension": ".py",
   "mimetype": "text/x-python",
   "name": "python",
   "nbconvert_exporter": "python",
   "pygments_lexer": "ipython3",
   "version": "3.8.5"
  }
 },
 "nbformat": 4,
 "nbformat_minor": 4
}
