{
 "cells": [
  {
   "cell_type": "markdown",
   "metadata": {},
   "source": [
    "while loop #while means jab tk"
   ]
  },
  {
   "cell_type": "code",
   "execution_count": 1,
   "metadata": {},
   "outputs": [
    {
     "name": "stdout",
     "output_type": "stream",
     "text": [
      "the value is =  0\n",
      "the value is =  1\n",
      "the value is =  2\n",
      "the value is =  3\n",
      "the value is =  4\n"
     ]
    }
   ],
   "source": [
    "i=0\n",
    "while i<5:\n",
    "    print(\"the value is = \",i)\n",
    "    i=i+1"
   ]
  },
  {
   "cell_type": "code",
   "execution_count": 3,
   "metadata": {},
   "outputs": [
    {
     "name": "stdout",
     "output_type": "stream",
     "text": [
      "3\n",
      "5\n",
      "7\n",
      "9\n",
      "11\n"
     ]
    }
   ],
   "source": [
    "i=1\n",
    "while i<=10:\n",
    "    i+=2\n",
    "    print(i)"
   ]
  },
  {
   "cell_type": "code",
   "execution_count": 8,
   "metadata": {},
   "outputs": [
    {
     "name": "stdout",
     "output_type": "stream",
     "text": [
      "2\n",
      "4\n",
      "6\n",
      "8\n",
      "10\n",
      "12\n",
      "14\n",
      "16\n",
      "18\n",
      "20\n"
     ]
    }
   ],
   "source": [
    "i=0\n",
    "while i<=18:\n",
    "    i=i+2\n",
    "    print(i)"
   ]
  },
  {
   "cell_type": "code",
   "execution_count": 13,
   "metadata": {},
   "outputs": [
    {
     "name": "stdout",
     "output_type": "stream",
     "text": [
      "enter any no = 7\n",
      "7\n",
      "14\n",
      "21\n",
      "28\n",
      "35\n",
      "42\n",
      "49\n",
      "56\n",
      "63\n",
      "70\n",
      "done 11\n"
     ]
    }
   ],
   "source": [
    "#takin user output for making table\n",
    "n=int(input(\"enter any no = \"))\n",
    "i=1\n",
    "while i<=10:\n",
    "    print(n*i)\n",
    "    i=i+1\n",
    "else:    #this is only language in which we use else with while:\n",
    "    print(\"done\",i)\n"
   ]
  },
  {
   "cell_type": "code",
   "execution_count": 27,
   "metadata": {},
   "outputs": [
    {
     "name": "stdout",
     "output_type": "stream",
     "text": [
      "its even =  30\n",
      "its odd =  31\n",
      "its even =  32\n",
      "its odd =  33\n",
      "its even =  34\n",
      "its odd =  35\n",
      "its even =  36\n",
      "its odd =  37\n",
      "its even =  38\n",
      "its odd =  39\n",
      "its even =  40\n",
      "its odd =  41\n",
      "its even =  42\n",
      "its odd =  43\n",
      "its even =  44\n",
      "its odd =  45\n",
      "its even =  46\n",
      "its odd =  47\n",
      "its even =  48\n",
      "its odd =  49\n",
      "its even =  50\n",
      "the total even no is = 11 \n",
      "the total odd no is = 10\n"
     ]
    }
   ],
   "source": [
    "#wap to print even and odd no from 30 to 50 using while loop \n",
    "i=30\n",
    "c,d=0,0\n",
    "while i<=50:\n",
    "    if i%2==0:\n",
    "        print(\"its even = \",i)\n",
    "        c=c+1\n",
    "    else:\n",
    "        print(\"its odd = \",i)\n",
    "        d=d+1\n",
    "    i=i+1\n",
    "print(\"the total even no is =\",c,\"\\nthe total odd no is =\",d)"
   ]
  },
  {
   "cell_type": "code",
   "execution_count": 1,
   "metadata": {},
   "outputs": [
    {
     "name": "stdout",
     "output_type": "stream",
     "text": [
      "1505\n",
      "1540\n",
      "1575\n",
      "1610\n",
      "1645\n",
      "1680\n",
      "1715\n",
      "1750\n",
      "1785\n",
      "1820\n",
      "1855\n",
      "1890\n",
      "1925\n",
      "1960\n",
      "1995\n",
      "2030\n",
      "2065\n",
      "2100\n",
      "2135\n",
      "2170\n",
      "2205\n",
      "2240\n",
      "2275\n",
      "2310\n",
      "2345\n",
      "2380\n",
      "2415\n",
      "2450\n",
      "2485\n",
      "2520\n",
      "2555\n",
      "2590\n",
      "2625\n",
      "2660\n",
      "2695\n",
      "total sum is =  35\n"
     ]
    }
   ],
   "source": [
    "#wap to find those no which are divisible by 7 and multiple of 5 between 1500 and 2700 (both included)\n",
    "i=1500\n",
    "c=0\n",
    "while i<=2700:\n",
    "    if i%7==0 and i%5==0:\n",
    "        print(i)\n",
    "        c+=1\n",
    "    i=i+1\n",
    "print(\"total sum is = \",c)\n",
    "        \n"
   ]
  },
  {
   "cell_type": "code",
   "execution_count": 36,
   "metadata": {},
   "outputs": [
    {
     "name": "stdout",
     "output_type": "stream",
     "text": [
      "0\n",
      "1\n",
      "1\n",
      "2\n",
      "3\n",
      "5\n",
      "8\n",
      "13\n",
      "21\n",
      "34\n"
     ]
    }
   ],
   "source": [
    "#wap to get the fibonacci series btw o to 50\n",
    "i=0\n",
    "a=0\n",
    "b=1\n",
    "while i<10:\n",
    "    c=a\n",
    "    a=b\n",
    "    b=a+c\n",
    "    print(c)\n",
    "    i=i+1\n",
    "    "
   ]
  },
  {
   "cell_type": "markdown",
   "metadata": {},
   "source": [
    "#wap to find no btw 100 to 400 where each digit of a no is an even no . the no obtained should be printed in a comma seprated sequence"
   ]
  },
  {
   "cell_type": "code",
   "execution_count": 26,
   "metadata": {},
   "outputs": [
    {
     "name": "stdout",
     "output_type": "stream",
     "text": [
      "200,202,204,206,208,220,222,224,226,228,240,242,244,246,248,260,262,264,266,268,280,282,284,286,288,400\n",
      "total no is = 26\n"
     ]
    }
   ],
   "source": [
    "lst=[]\n",
    "d=0\n",
    "for i in range(100,401):\n",
    "    c=1\n",
    "    for j in str(i):\n",
    "        if ord(j)%2!=0:\n",
    "            c=0\n",
    "    if c==1:\n",
    "        lst.append(str(i))\n",
    "        d+=1    \n",
    "print(\",\".join(lst))\n",
    "print(\"total no is =\",d)\n",
    "        \n",
    "    "
   ]
  },
  {
   "cell_type": "code",
   "execution_count": null,
   "metadata": {
    "scrolled": true
   },
   "outputs": [],
   "source": [
    "\n",
    "    "
   ]
  },
  {
   "cell_type": "code",
   "execution_count": null,
   "metadata": {},
   "outputs": [],
   "source": []
  },
  {
   "cell_type": "code",
   "execution_count": null,
   "metadata": {},
   "outputs": [],
   "source": [
    "\n",
    "    "
   ]
  },
  {
   "cell_type": "code",
   "execution_count": 7,
   "metadata": {},
   "outputs": [
    {
     "name": "stdout",
     "output_type": "stream",
     "text": [
      "200 is even\n",
      "202 is even\n",
      "204 is even\n",
      "206 is even\n",
      "208 is even\n",
      "220 is even\n",
      "222 is even\n",
      "224 is even\n",
      "226 is even\n",
      "228 is even\n",
      "240 is even\n",
      "242 is even\n",
      "244 is even\n",
      "246 is even\n",
      "248 is even\n",
      "260 is even\n",
      "262 is even\n",
      "264 is even\n",
      "266 is even\n",
      "268 is even\n",
      "280 is even\n",
      "282 is even\n",
      "284 is even\n",
      "286 is even\n",
      "288 is even\n",
      "400 is even\n"
     ]
    }
   ],
   "source": [
    "for i in range(100,401):\n",
    "    i=str(i)\n",
    "    c=0\n",
    "    for j in i:\n",
    "        j=int(j)\n",
    "        if j%2==0:\n",
    "            c=c+1\n",
    "    if c==3:\n",
    "        print(i,\"is even\")\n"
   ]
  },
  {
   "cell_type": "code",
   "execution_count": null,
   "metadata": {},
   "outputs": [],
   "source": []
  }
 ],
 "metadata": {
  "kernelspec": {
   "display_name": "Python 3",
   "language": "python",
   "name": "python3"
  },
  "language_info": {
   "codemirror_mode": {
    "name": "ipython",
    "version": 3
   },
   "file_extension": ".py",
   "mimetype": "text/x-python",
   "name": "python",
   "nbconvert_exporter": "python",
   "pygments_lexer": "ipython3",
   "version": "3.8.5"
  }
 },
 "nbformat": 4,
 "nbformat_minor": 4
}
