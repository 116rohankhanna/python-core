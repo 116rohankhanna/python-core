{
 "cells": [
  {
   "cell_type": "markdown",
   "id": "5af33f88",
   "metadata": {},
   "source": [
    "27. Define a function that can convert a integer into a string and print it in console. Hints: Use str() to convert a\n",
    "number to string."
   ]
  },
  {
   "cell_type": "code",
   "execution_count": 2,
   "id": "b7b02055",
   "metadata": {},
   "outputs": [
    {
     "name": "stdout",
     "output_type": "stream",
     "text": [
      "Enter the number = 79\n"
     ]
    },
    {
     "data": {
      "text/plain": [
       "'79'"
      ]
     },
     "execution_count": 2,
     "metadata": {},
     "output_type": "execute_result"
    }
   ],
   "source": [
    "a=int(input(\"Enter the number = \"))\n",
    "def string():\n",
    "    b=str(a)\n",
    "    return b\n",
    "string()\n"
   ]
  },
  {
   "cell_type": "markdown",
   "id": "0601e43f",
   "metadata": {},
   "source": [
    "29. Define a function that can receive two integral numbers in string form and compute their sum and then print\n",
    "it in console. Hints: Use int() to convert a string to integer.\n"
   ]
  },
  {
   "cell_type": "code",
   "execution_count": 5,
   "id": "fad7ca33",
   "metadata": {},
   "outputs": [],
   "source": [
    "def sum():\n",
    "    a='20'\n",
    "    b='20'\n",
    "    c=int(a)\n",
    "    d=int(b)\n",
    "    add=c+d\n",
    " \n",
    "    return add\n"
   ]
  },
  {
   "cell_type": "code",
   "execution_count": 7,
   "id": "71411abf",
   "metadata": {},
   "outputs": [
    {
     "data": {
      "text/plain": [
       "40"
      ]
     },
     "execution_count": 7,
     "metadata": {},
     "output_type": "execute_result"
    }
   ],
   "source": [
    "sum()"
   ]
  },
  {
   "cell_type": "code",
   "execution_count": null,
   "id": "6750e2c4",
   "metadata": {},
   "outputs": [],
   "source": []
  }
 ],
 "metadata": {
  "kernelspec": {
   "display_name": "Python 3 (ipykernel)",
   "language": "python",
   "name": "python3"
  },
  "language_info": {
   "codemirror_mode": {
    "name": "ipython",
    "version": 3
   },
   "file_extension": ".py",
   "mimetype": "text/x-python",
   "name": "python",
   "nbconvert_exporter": "python",
   "pygments_lexer": "ipython3",
   "version": "3.9.12"
  }
 },
 "nbformat": 4,
 "nbformat_minor": 5
}
